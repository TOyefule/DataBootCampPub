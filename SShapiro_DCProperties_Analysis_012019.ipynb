{
 "cells": [
  {
   "cell_type": "code",
   "execution_count": 1,
   "metadata": {},
   "outputs": [],
   "source": [
    "import pandas as pd\n",
    "import numpy as np\n",
    "import sklearn\n",
    "import matplotlib.pyplot as plt\n",
    "import seaborn as sns\n",
    "\n",
    "%matplotlib inline\n",
    "\n",
    "from sklearn.linear_model import LogisticRegression\n",
    "from sklearn.model_selection import train_test_split\n",
    "from sklearn.metrics import classification_report\n",
    "from sklearn.metrics import confusion_matrix \n",
    "from sklearn.metrics import accuracy_score\n"
   ]
  },
  {
   "cell_type": "code",
   "execution_count": 2,
   "metadata": {},
   "outputs": [
    {
     "name": "stderr",
     "output_type": "stream",
     "text": [
      "/anaconda3/lib/python3.7/site-packages/IPython/core/interactiveshell.py:3020: DtypeWarning: Columns (18,19,20,21,22,23,24,33,34,35,37,43,45) have mixed types. Specify dtype option on import or set low_memory=False.\n",
      "  interactivity=interactivity, compiler=compiler, result=result)\n"
     ]
    }
   ],
   "source": [
    "location = \"DC_Properties.csv\"\n",
    "df = pd.read_csv(location)"
   ]
  },
  {
   "cell_type": "code",
   "execution_count": 3,
   "metadata": {},
   "outputs": [
    {
     "data": {
      "text/plain": [
       "Unnamed: 0              int64\n",
       "BATHRM                  int64\n",
       "HF_BATHRM               int64\n",
       "HEAT                   object\n",
       "AC                     object\n",
       "NUM_UNITS             float64\n",
       "ROOMS                   int64\n",
       "BEDRM                   int64\n",
       "AYB                   float64\n",
       "YR_RMDL               float64\n",
       "EYB                     int64\n",
       "STORIES               float64\n",
       "SALEDATE               object\n",
       "PRICE                 float64\n",
       "QUALIFIED              object\n",
       "SALE_NUM                int64\n",
       "GBA                   float64\n",
       "BLDG_NUM                int64\n",
       "STYLE                  object\n",
       "STRUCT                 object\n",
       "GRADE                  object\n",
       "CNDTN                  object\n",
       "EXTWALL                object\n",
       "ROOF                   object\n",
       "INTWALL                object\n",
       "KITCHENS              float64\n",
       "FIREPLACES              int64\n",
       "USECODE                 int64\n",
       "LANDAREA                int64\n",
       "GIS_LAST_MOD_DTTM      object\n",
       "SOURCE                 object\n",
       "CMPLX_NUM             float64\n",
       "LIVING_GBA            float64\n",
       "FULLADDRESS            object\n",
       "CITY                   object\n",
       "STATE                  object\n",
       "ZIPCODE               float64\n",
       "NATIONALGRID           object\n",
       "LATITUDE              float64\n",
       "LONGITUDE             float64\n",
       "ASSESSMENT_NBHD        object\n",
       "ASSESSMENT_SUBNBHD     object\n",
       "CENSUS_TRACT          float64\n",
       "CENSUS_BLOCK           object\n",
       "WARD                   object\n",
       "SQUARE                 object\n",
       "X                     float64\n",
       "Y                     float64\n",
       "QUADRANT               object\n",
       "dtype: object"
      ]
     },
     "execution_count": 3,
     "metadata": {},
     "output_type": "execute_result"
    }
   ],
   "source": [
    "df.dtypes"
   ]
  },
  {
   "cell_type": "code",
   "execution_count": 4,
   "metadata": {},
   "outputs": [
    {
     "data": {
      "text/html": [
       "<div>\n",
       "<style scoped>\n",
       "    .dataframe tbody tr th:only-of-type {\n",
       "        vertical-align: middle;\n",
       "    }\n",
       "\n",
       "    .dataframe tbody tr th {\n",
       "        vertical-align: top;\n",
       "    }\n",
       "\n",
       "    .dataframe thead th {\n",
       "        text-align: right;\n",
       "    }\n",
       "</style>\n",
       "<table border=\"1\" class=\"dataframe\">\n",
       "  <thead>\n",
       "    <tr style=\"text-align: right;\">\n",
       "      <th></th>\n",
       "      <th>Unnamed: 0</th>\n",
       "      <th>BATHRM</th>\n",
       "      <th>HF_BATHRM</th>\n",
       "      <th>HEAT</th>\n",
       "      <th>AC</th>\n",
       "      <th>NUM_UNITS</th>\n",
       "      <th>ROOMS</th>\n",
       "      <th>BEDRM</th>\n",
       "      <th>AYB</th>\n",
       "      <th>YR_RMDL</th>\n",
       "      <th>...</th>\n",
       "      <th>LONGITUDE</th>\n",
       "      <th>ASSESSMENT_NBHD</th>\n",
       "      <th>ASSESSMENT_SUBNBHD</th>\n",
       "      <th>CENSUS_TRACT</th>\n",
       "      <th>CENSUS_BLOCK</th>\n",
       "      <th>WARD</th>\n",
       "      <th>SQUARE</th>\n",
       "      <th>X</th>\n",
       "      <th>Y</th>\n",
       "      <th>QUADRANT</th>\n",
       "    </tr>\n",
       "  </thead>\n",
       "  <tbody>\n",
       "    <tr>\n",
       "      <th>0</th>\n",
       "      <td>0</td>\n",
       "      <td>4</td>\n",
       "      <td>0</td>\n",
       "      <td>Warm Cool</td>\n",
       "      <td>Y</td>\n",
       "      <td>2.0</td>\n",
       "      <td>8</td>\n",
       "      <td>4</td>\n",
       "      <td>1910.0</td>\n",
       "      <td>1988.0</td>\n",
       "      <td>...</td>\n",
       "      <td>-77.040832</td>\n",
       "      <td>Old City 2</td>\n",
       "      <td>040 D Old City 2</td>\n",
       "      <td>4201.0</td>\n",
       "      <td>004201 2006</td>\n",
       "      <td>Ward 2</td>\n",
       "      <td>152</td>\n",
       "      <td>-77.040429</td>\n",
       "      <td>38.914881</td>\n",
       "      <td>NW</td>\n",
       "    </tr>\n",
       "    <tr>\n",
       "      <th>1</th>\n",
       "      <td>1</td>\n",
       "      <td>3</td>\n",
       "      <td>1</td>\n",
       "      <td>Warm Cool</td>\n",
       "      <td>Y</td>\n",
       "      <td>2.0</td>\n",
       "      <td>11</td>\n",
       "      <td>5</td>\n",
       "      <td>1898.0</td>\n",
       "      <td>2007.0</td>\n",
       "      <td>...</td>\n",
       "      <td>-77.040764</td>\n",
       "      <td>Old City 2</td>\n",
       "      <td>040 D Old City 2</td>\n",
       "      <td>4201.0</td>\n",
       "      <td>004201 2006</td>\n",
       "      <td>Ward 2</td>\n",
       "      <td>152</td>\n",
       "      <td>-77.040429</td>\n",
       "      <td>38.914881</td>\n",
       "      <td>NW</td>\n",
       "    </tr>\n",
       "    <tr>\n",
       "      <th>2</th>\n",
       "      <td>2</td>\n",
       "      <td>3</td>\n",
       "      <td>1</td>\n",
       "      <td>Hot Water Rad</td>\n",
       "      <td>Y</td>\n",
       "      <td>2.0</td>\n",
       "      <td>9</td>\n",
       "      <td>5</td>\n",
       "      <td>1910.0</td>\n",
       "      <td>2009.0</td>\n",
       "      <td>...</td>\n",
       "      <td>-77.040678</td>\n",
       "      <td>Old City 2</td>\n",
       "      <td>040 D Old City 2</td>\n",
       "      <td>4201.0</td>\n",
       "      <td>004201 2006</td>\n",
       "      <td>Ward 2</td>\n",
       "      <td>152</td>\n",
       "      <td>-77.040429</td>\n",
       "      <td>38.914881</td>\n",
       "      <td>NW</td>\n",
       "    </tr>\n",
       "    <tr>\n",
       "      <th>3</th>\n",
       "      <td>3</td>\n",
       "      <td>3</td>\n",
       "      <td>1</td>\n",
       "      <td>Hot Water Rad</td>\n",
       "      <td>Y</td>\n",
       "      <td>2.0</td>\n",
       "      <td>8</td>\n",
       "      <td>5</td>\n",
       "      <td>1900.0</td>\n",
       "      <td>2003.0</td>\n",
       "      <td>...</td>\n",
       "      <td>-77.040629</td>\n",
       "      <td>Old City 2</td>\n",
       "      <td>040 D Old City 2</td>\n",
       "      <td>4201.0</td>\n",
       "      <td>004201 2006</td>\n",
       "      <td>Ward 2</td>\n",
       "      <td>152</td>\n",
       "      <td>-77.040429</td>\n",
       "      <td>38.914881</td>\n",
       "      <td>NW</td>\n",
       "    </tr>\n",
       "    <tr>\n",
       "      <th>4</th>\n",
       "      <td>4</td>\n",
       "      <td>2</td>\n",
       "      <td>1</td>\n",
       "      <td>Warm Cool</td>\n",
       "      <td>Y</td>\n",
       "      <td>1.0</td>\n",
       "      <td>11</td>\n",
       "      <td>3</td>\n",
       "      <td>1913.0</td>\n",
       "      <td>2012.0</td>\n",
       "      <td>...</td>\n",
       "      <td>-77.039361</td>\n",
       "      <td>Old City 2</td>\n",
       "      <td>040 D Old City 2</td>\n",
       "      <td>4201.0</td>\n",
       "      <td>004201 2006</td>\n",
       "      <td>Ward 2</td>\n",
       "      <td>152</td>\n",
       "      <td>-77.040429</td>\n",
       "      <td>38.914881</td>\n",
       "      <td>NW</td>\n",
       "    </tr>\n",
       "  </tbody>\n",
       "</table>\n",
       "<p>5 rows × 49 columns</p>\n",
       "</div>"
      ],
      "text/plain": [
       "   Unnamed: 0  BATHRM  HF_BATHRM           HEAT AC  NUM_UNITS  ROOMS  BEDRM  \\\n",
       "0           0       4          0      Warm Cool  Y        2.0      8      4   \n",
       "1           1       3          1      Warm Cool  Y        2.0     11      5   \n",
       "2           2       3          1  Hot Water Rad  Y        2.0      9      5   \n",
       "3           3       3          1  Hot Water Rad  Y        2.0      8      5   \n",
       "4           4       2          1      Warm Cool  Y        1.0     11      3   \n",
       "\n",
       "      AYB  YR_RMDL   ...     LONGITUDE  ASSESSMENT_NBHD ASSESSMENT_SUBNBHD  \\\n",
       "0  1910.0   1988.0   ...    -77.040832       Old City 2   040 D Old City 2   \n",
       "1  1898.0   2007.0   ...    -77.040764       Old City 2   040 D Old City 2   \n",
       "2  1910.0   2009.0   ...    -77.040678       Old City 2   040 D Old City 2   \n",
       "3  1900.0   2003.0   ...    -77.040629       Old City 2   040 D Old City 2   \n",
       "4  1913.0   2012.0   ...    -77.039361       Old City 2   040 D Old City 2   \n",
       "\n",
       "   CENSUS_TRACT CENSUS_BLOCK    WARD  SQUARE          X          Y QUADRANT  \n",
       "0        4201.0  004201 2006  Ward 2     152 -77.040429  38.914881       NW  \n",
       "1        4201.0  004201 2006  Ward 2     152 -77.040429  38.914881       NW  \n",
       "2        4201.0  004201 2006  Ward 2     152 -77.040429  38.914881       NW  \n",
       "3        4201.0  004201 2006  Ward 2     152 -77.040429  38.914881       NW  \n",
       "4        4201.0  004201 2006  Ward 2     152 -77.040429  38.914881       NW  \n",
       "\n",
       "[5 rows x 49 columns]"
      ]
     },
     "execution_count": 4,
     "metadata": {},
     "output_type": "execute_result"
    }
   ],
   "source": [
    "df.head()"
   ]
  },
  {
   "cell_type": "code",
   "execution_count": 5,
   "metadata": {},
   "outputs": [
    {
     "data": {
      "text/html": [
       "<div>\n",
       "<style scoped>\n",
       "    .dataframe tbody tr th:only-of-type {\n",
       "        vertical-align: middle;\n",
       "    }\n",
       "\n",
       "    .dataframe tbody tr th {\n",
       "        vertical-align: top;\n",
       "    }\n",
       "\n",
       "    .dataframe thead th {\n",
       "        text-align: right;\n",
       "    }\n",
       "</style>\n",
       "<table border=\"1\" class=\"dataframe\">\n",
       "  <thead>\n",
       "    <tr style=\"text-align: right;\">\n",
       "      <th></th>\n",
       "      <th>Unnamed: 0</th>\n",
       "      <th>BATHRM</th>\n",
       "      <th>HF_BATHRM</th>\n",
       "      <th>NUM_UNITS</th>\n",
       "      <th>ROOMS</th>\n",
       "      <th>BEDRM</th>\n",
       "      <th>AYB</th>\n",
       "      <th>YR_RMDL</th>\n",
       "      <th>EYB</th>\n",
       "      <th>STORIES</th>\n",
       "      <th>...</th>\n",
       "      <th>USECODE</th>\n",
       "      <th>LANDAREA</th>\n",
       "      <th>CMPLX_NUM</th>\n",
       "      <th>LIVING_GBA</th>\n",
       "      <th>ZIPCODE</th>\n",
       "      <th>LATITUDE</th>\n",
       "      <th>LONGITUDE</th>\n",
       "      <th>CENSUS_TRACT</th>\n",
       "      <th>X</th>\n",
       "      <th>Y</th>\n",
       "    </tr>\n",
       "  </thead>\n",
       "  <tbody>\n",
       "    <tr>\n",
       "      <th>count</th>\n",
       "      <td>158957.000000</td>\n",
       "      <td>158957.000000</td>\n",
       "      <td>158957.000000</td>\n",
       "      <td>106696.000000</td>\n",
       "      <td>158957.000000</td>\n",
       "      <td>158957.000000</td>\n",
       "      <td>158686.000000</td>\n",
       "      <td>80928.000000</td>\n",
       "      <td>158957.000000</td>\n",
       "      <td>106652.000000</td>\n",
       "      <td>...</td>\n",
       "      <td>158957.000000</td>\n",
       "      <td>158957.000000</td>\n",
       "      <td>52261.000000</td>\n",
       "      <td>52261.000000</td>\n",
       "      <td>158956.000000</td>\n",
       "      <td>158956.000000</td>\n",
       "      <td>158956.000000</td>\n",
       "      <td>158956.000000</td>\n",
       "      <td>158720.000000</td>\n",
       "      <td>158720.000000</td>\n",
       "    </tr>\n",
       "    <tr>\n",
       "      <th>mean</th>\n",
       "      <td>79478.000000</td>\n",
       "      <td>1.810678</td>\n",
       "      <td>0.458237</td>\n",
       "      <td>1.198039</td>\n",
       "      <td>6.187736</td>\n",
       "      <td>2.732506</td>\n",
       "      <td>1941.987579</td>\n",
       "      <td>1998.243537</td>\n",
       "      <td>1963.718024</td>\n",
       "      <td>2.091793</td>\n",
       "      <td>...</td>\n",
       "      <td>14.252999</td>\n",
       "      <td>2473.282158</td>\n",
       "      <td>2371.544249</td>\n",
       "      <td>888.834542</td>\n",
       "      <td>20012.694563</td>\n",
       "      <td>38.914854</td>\n",
       "      <td>-77.016676</td>\n",
       "      <td>5348.216324</td>\n",
       "      <td>-77.016712</td>\n",
       "      <td>38.914846</td>\n",
       "    </tr>\n",
       "    <tr>\n",
       "      <th>std</th>\n",
       "      <td>45887.077707</td>\n",
       "      <td>0.976396</td>\n",
       "      <td>0.587571</td>\n",
       "      <td>0.596924</td>\n",
       "      <td>2.618165</td>\n",
       "      <td>1.358864</td>\n",
       "      <td>33.640234</td>\n",
       "      <td>16.575786</td>\n",
       "      <td>24.923150</td>\n",
       "      <td>2.933323</td>\n",
       "      <td>...</td>\n",
       "      <td>3.725736</td>\n",
       "      <td>5059.046023</td>\n",
       "      <td>1114.272364</td>\n",
       "      <td>420.185822</td>\n",
       "      <td>15.627084</td>\n",
       "      <td>0.031723</td>\n",
       "      <td>0.040938</td>\n",
       "      <td>3369.645953</td>\n",
       "      <td>0.040933</td>\n",
       "      <td>0.031682</td>\n",
       "    </tr>\n",
       "    <tr>\n",
       "      <th>min</th>\n",
       "      <td>0.000000</td>\n",
       "      <td>0.000000</td>\n",
       "      <td>0.000000</td>\n",
       "      <td>0.000000</td>\n",
       "      <td>0.000000</td>\n",
       "      <td>0.000000</td>\n",
       "      <td>1754.000000</td>\n",
       "      <td>20.000000</td>\n",
       "      <td>1800.000000</td>\n",
       "      <td>0.000000</td>\n",
       "      <td>...</td>\n",
       "      <td>11.000000</td>\n",
       "      <td>0.000000</td>\n",
       "      <td>1001.000000</td>\n",
       "      <td>0.000000</td>\n",
       "      <td>20001.000000</td>\n",
       "      <td>38.819731</td>\n",
       "      <td>-77.113909</td>\n",
       "      <td>100.000000</td>\n",
       "      <td>-77.113135</td>\n",
       "      <td>38.820576</td>\n",
       "    </tr>\n",
       "    <tr>\n",
       "      <th>25%</th>\n",
       "      <td>39739.000000</td>\n",
       "      <td>1.000000</td>\n",
       "      <td>0.000000</td>\n",
       "      <td>1.000000</td>\n",
       "      <td>4.000000</td>\n",
       "      <td>2.000000</td>\n",
       "      <td>1918.000000</td>\n",
       "      <td>1985.000000</td>\n",
       "      <td>1954.000000</td>\n",
       "      <td>2.000000</td>\n",
       "      <td>...</td>\n",
       "      <td>11.000000</td>\n",
       "      <td>697.000000</td>\n",
       "      <td>1501.000000</td>\n",
       "      <td>616.000000</td>\n",
       "      <td>20007.000000</td>\n",
       "      <td>38.895425</td>\n",
       "      <td>-77.042892</td>\n",
       "      <td>2102.000000</td>\n",
       "      <td>-77.042894</td>\n",
       "      <td>38.895432</td>\n",
       "    </tr>\n",
       "    <tr>\n",
       "      <th>50%</th>\n",
       "      <td>79478.000000</td>\n",
       "      <td>2.000000</td>\n",
       "      <td>0.000000</td>\n",
       "      <td>1.000000</td>\n",
       "      <td>6.000000</td>\n",
       "      <td>3.000000</td>\n",
       "      <td>1937.000000</td>\n",
       "      <td>2004.000000</td>\n",
       "      <td>1963.000000</td>\n",
       "      <td>2.000000</td>\n",
       "      <td>...</td>\n",
       "      <td>13.000000</td>\n",
       "      <td>1649.000000</td>\n",
       "      <td>2265.000000</td>\n",
       "      <td>783.000000</td>\n",
       "      <td>20011.000000</td>\n",
       "      <td>38.915337</td>\n",
       "      <td>-77.019596</td>\n",
       "      <td>5201.000000</td>\n",
       "      <td>-77.019581</td>\n",
       "      <td>38.915229</td>\n",
       "    </tr>\n",
       "    <tr>\n",
       "      <th>75%</th>\n",
       "      <td>119217.000000</td>\n",
       "      <td>2.000000</td>\n",
       "      <td>1.000000</td>\n",
       "      <td>1.000000</td>\n",
       "      <td>7.000000</td>\n",
       "      <td>3.000000</td>\n",
       "      <td>1960.000000</td>\n",
       "      <td>2010.000000</td>\n",
       "      <td>1975.000000</td>\n",
       "      <td>2.000000</td>\n",
       "      <td>...</td>\n",
       "      <td>17.000000</td>\n",
       "      <td>3000.000000</td>\n",
       "      <td>2910.000000</td>\n",
       "      <td>1060.000000</td>\n",
       "      <td>20018.000000</td>\n",
       "      <td>38.936075</td>\n",
       "      <td>-76.988626</td>\n",
       "      <td>8302.000000</td>\n",
       "      <td>-76.988842</td>\n",
       "      <td>38.936077</td>\n",
       "    </tr>\n",
       "    <tr>\n",
       "      <th>max</th>\n",
       "      <td>158956.000000</td>\n",
       "      <td>14.000000</td>\n",
       "      <td>11.000000</td>\n",
       "      <td>6.000000</td>\n",
       "      <td>48.000000</td>\n",
       "      <td>24.000000</td>\n",
       "      <td>2019.000000</td>\n",
       "      <td>2019.000000</td>\n",
       "      <td>2018.000000</td>\n",
       "      <td>826.000000</td>\n",
       "      <td>...</td>\n",
       "      <td>117.000000</td>\n",
       "      <td>942632.000000</td>\n",
       "      <td>5621.000000</td>\n",
       "      <td>8553.000000</td>\n",
       "      <td>20392.000000</td>\n",
       "      <td>38.995540</td>\n",
       "      <td>-76.909758</td>\n",
       "      <td>11100.000000</td>\n",
       "      <td>-76.910511</td>\n",
       "      <td>38.993646</td>\n",
       "    </tr>\n",
       "  </tbody>\n",
       "</table>\n",
       "<p>8 rows × 26 columns</p>\n",
       "</div>"
      ],
      "text/plain": [
       "          Unnamed: 0         BATHRM      HF_BATHRM      NUM_UNITS  \\\n",
       "count  158957.000000  158957.000000  158957.000000  106696.000000   \n",
       "mean    79478.000000       1.810678       0.458237       1.198039   \n",
       "std     45887.077707       0.976396       0.587571       0.596924   \n",
       "min         0.000000       0.000000       0.000000       0.000000   \n",
       "25%     39739.000000       1.000000       0.000000       1.000000   \n",
       "50%     79478.000000       2.000000       0.000000       1.000000   \n",
       "75%    119217.000000       2.000000       1.000000       1.000000   \n",
       "max    158956.000000      14.000000      11.000000       6.000000   \n",
       "\n",
       "               ROOMS          BEDRM            AYB       YR_RMDL  \\\n",
       "count  158957.000000  158957.000000  158686.000000  80928.000000   \n",
       "mean        6.187736       2.732506    1941.987579   1998.243537   \n",
       "std         2.618165       1.358864      33.640234     16.575786   \n",
       "min         0.000000       0.000000    1754.000000     20.000000   \n",
       "25%         4.000000       2.000000    1918.000000   1985.000000   \n",
       "50%         6.000000       3.000000    1937.000000   2004.000000   \n",
       "75%         7.000000       3.000000    1960.000000   2010.000000   \n",
       "max        48.000000      24.000000    2019.000000   2019.000000   \n",
       "\n",
       "                 EYB        STORIES      ...              USECODE  \\\n",
       "count  158957.000000  106652.000000      ...        158957.000000   \n",
       "mean     1963.718024       2.091793      ...            14.252999   \n",
       "std        24.923150       2.933323      ...             3.725736   \n",
       "min      1800.000000       0.000000      ...            11.000000   \n",
       "25%      1954.000000       2.000000      ...            11.000000   \n",
       "50%      1963.000000       2.000000      ...            13.000000   \n",
       "75%      1975.000000       2.000000      ...            17.000000   \n",
       "max      2018.000000     826.000000      ...           117.000000   \n",
       "\n",
       "            LANDAREA     CMPLX_NUM    LIVING_GBA        ZIPCODE  \\\n",
       "count  158957.000000  52261.000000  52261.000000  158956.000000   \n",
       "mean     2473.282158   2371.544249    888.834542   20012.694563   \n",
       "std      5059.046023   1114.272364    420.185822      15.627084   \n",
       "min         0.000000   1001.000000      0.000000   20001.000000   \n",
       "25%       697.000000   1501.000000    616.000000   20007.000000   \n",
       "50%      1649.000000   2265.000000    783.000000   20011.000000   \n",
       "75%      3000.000000   2910.000000   1060.000000   20018.000000   \n",
       "max    942632.000000   5621.000000   8553.000000   20392.000000   \n",
       "\n",
       "            LATITUDE      LONGITUDE   CENSUS_TRACT              X  \\\n",
       "count  158956.000000  158956.000000  158956.000000  158720.000000   \n",
       "mean       38.914854     -77.016676    5348.216324     -77.016712   \n",
       "std         0.031723       0.040938    3369.645953       0.040933   \n",
       "min        38.819731     -77.113909     100.000000     -77.113135   \n",
       "25%        38.895425     -77.042892    2102.000000     -77.042894   \n",
       "50%        38.915337     -77.019596    5201.000000     -77.019581   \n",
       "75%        38.936075     -76.988626    8302.000000     -76.988842   \n",
       "max        38.995540     -76.909758   11100.000000     -76.910511   \n",
       "\n",
       "                   Y  \n",
       "count  158720.000000  \n",
       "mean       38.914846  \n",
       "std         0.031682  \n",
       "min        38.820576  \n",
       "25%        38.895432  \n",
       "50%        38.915229  \n",
       "75%        38.936077  \n",
       "max        38.993646  \n",
       "\n",
       "[8 rows x 26 columns]"
      ]
     },
     "execution_count": 5,
     "metadata": {},
     "output_type": "execute_result"
    }
   ],
   "source": [
    "df.describe()"
   ]
  },
  {
   "cell_type": "code",
   "execution_count": 6,
   "metadata": {},
   "outputs": [
    {
     "data": {
      "text/html": [
       "<div>\n",
       "<style scoped>\n",
       "    .dataframe tbody tr th:only-of-type {\n",
       "        vertical-align: middle;\n",
       "    }\n",
       "\n",
       "    .dataframe tbody tr th {\n",
       "        vertical-align: top;\n",
       "    }\n",
       "\n",
       "    .dataframe thead th {\n",
       "        text-align: right;\n",
       "    }\n",
       "</style>\n",
       "<table border=\"1\" class=\"dataframe\">\n",
       "  <thead>\n",
       "    <tr style=\"text-align: right;\">\n",
       "      <th></th>\n",
       "      <th>BEDRM</th>\n",
       "      <th>PRICE</th>\n",
       "      <th>WARD</th>\n",
       "    </tr>\n",
       "  </thead>\n",
       "  <tbody>\n",
       "    <tr>\n",
       "      <th>0</th>\n",
       "      <td>4</td>\n",
       "      <td>1095000.0</td>\n",
       "      <td>Ward 2</td>\n",
       "    </tr>\n",
       "    <tr>\n",
       "      <th>1</th>\n",
       "      <td>5</td>\n",
       "      <td>NaN</td>\n",
       "      <td>Ward 2</td>\n",
       "    </tr>\n",
       "    <tr>\n",
       "      <th>2</th>\n",
       "      <td>5</td>\n",
       "      <td>2100000.0</td>\n",
       "      <td>Ward 2</td>\n",
       "    </tr>\n",
       "    <tr>\n",
       "      <th>3</th>\n",
       "      <td>5</td>\n",
       "      <td>1602000.0</td>\n",
       "      <td>Ward 2</td>\n",
       "    </tr>\n",
       "    <tr>\n",
       "      <th>4</th>\n",
       "      <td>3</td>\n",
       "      <td>NaN</td>\n",
       "      <td>Ward 2</td>\n",
       "    </tr>\n",
       "  </tbody>\n",
       "</table>\n",
       "</div>"
      ],
      "text/plain": [
       "   BEDRM      PRICE    WARD\n",
       "0      4  1095000.0  Ward 2\n",
       "1      5        NaN  Ward 2\n",
       "2      5  2100000.0  Ward 2\n",
       "3      5  1602000.0  Ward 2\n",
       "4      3        NaN  Ward 2"
      ]
     },
     "execution_count": 6,
     "metadata": {},
     "output_type": "execute_result"
    }
   ],
   "source": [
    "df2=df[['BEDRM','PRICE','WARD']]\n",
    "df2.head()\n",
    "#renamed data, and pared it down"
   ]
  },
  {
   "cell_type": "code",
   "execution_count": 7,
   "metadata": {
    "scrolled": true
   },
   "outputs": [
    {
     "data": {
      "text/html": [
       "<div>\n",
       "<style scoped>\n",
       "    .dataframe tbody tr th:only-of-type {\n",
       "        vertical-align: middle;\n",
       "    }\n",
       "\n",
       "    .dataframe tbody tr th {\n",
       "        vertical-align: top;\n",
       "    }\n",
       "\n",
       "    .dataframe thead th {\n",
       "        text-align: right;\n",
       "    }\n",
       "</style>\n",
       "<table border=\"1\" class=\"dataframe\">\n",
       "  <thead>\n",
       "    <tr style=\"text-align: right;\">\n",
       "      <th></th>\n",
       "      <th>BEDRM</th>\n",
       "      <th>PRICE</th>\n",
       "    </tr>\n",
       "    <tr>\n",
       "      <th>WARD</th>\n",
       "      <th></th>\n",
       "      <th></th>\n",
       "    </tr>\n",
       "  </thead>\n",
       "  <tbody>\n",
       "    <tr>\n",
       "      <th>Ward 1</th>\n",
       "      <td>3.0</td>\n",
       "      <td>573836.0</td>\n",
       "    </tr>\n",
       "    <tr>\n",
       "      <th>Ward 2</th>\n",
       "      <td>2.0</td>\n",
       "      <td>1098570.0</td>\n",
       "    </tr>\n",
       "    <tr>\n",
       "      <th>Ward 3</th>\n",
       "      <td>3.0</td>\n",
       "      <td>3077716.0</td>\n",
       "    </tr>\n",
       "    <tr>\n",
       "      <th>Ward 4</th>\n",
       "      <td>3.0</td>\n",
       "      <td>489922.0</td>\n",
       "    </tr>\n",
       "    <tr>\n",
       "      <th>Ward 5</th>\n",
       "      <td>3.0</td>\n",
       "      <td>395243.0</td>\n",
       "    </tr>\n",
       "    <tr>\n",
       "      <th>Ward 6</th>\n",
       "      <td>3.0</td>\n",
       "      <td>526868.0</td>\n",
       "    </tr>\n",
       "    <tr>\n",
       "      <th>Ward 7</th>\n",
       "      <td>3.0</td>\n",
       "      <td>233922.0</td>\n",
       "    </tr>\n",
       "    <tr>\n",
       "      <th>Ward 8</th>\n",
       "      <td>3.0</td>\n",
       "      <td>271522.0</td>\n",
       "    </tr>\n",
       "  </tbody>\n",
       "</table>\n",
       "</div>"
      ],
      "text/plain": [
       "        BEDRM      PRICE\n",
       "WARD                    \n",
       "Ward 1    3.0   573836.0\n",
       "Ward 2    2.0  1098570.0\n",
       "Ward 3    3.0  3077716.0\n",
       "Ward 4    3.0   489922.0\n",
       "Ward 5    3.0   395243.0\n",
       "Ward 6    3.0   526868.0\n",
       "Ward 7    3.0   233922.0\n",
       "Ward 8    3.0   271522.0"
      ]
     },
     "execution_count": 7,
     "metadata": {},
     "output_type": "execute_result"
    }
   ],
   "source": [
    "df2.groupby(df2['WARD']).mean().round(0)\n",
    "#wanted to see average bedrooms and pricing by ward"
   ]
  },
  {
   "cell_type": "code",
   "execution_count": 8,
   "metadata": {
    "scrolled": true
   },
   "outputs": [
    {
     "data": {
      "text/plain": [
       "BEDRM        0\n",
       "PRICE    60741\n",
       "WARD         1\n",
       "dtype: int64"
      ]
     },
     "execution_count": 8,
     "metadata": {},
     "output_type": "execute_result"
    }
   ],
   "source": [
    "df2_no_missing = df2.dropna()\n",
    "df2.isnull().sum()\n",
    "#Removed blank rows\n",
    "#_no_missing is the new name and must be referred to as such."
   ]
  },
  {
   "cell_type": "code",
   "execution_count": 9,
   "metadata": {},
   "outputs": [
    {
     "data": {
      "text/html": [
       "<div>\n",
       "<style scoped>\n",
       "    .dataframe tbody tr th:only-of-type {\n",
       "        vertical-align: middle;\n",
       "    }\n",
       "\n",
       "    .dataframe tbody tr th {\n",
       "        vertical-align: top;\n",
       "    }\n",
       "\n",
       "    .dataframe thead th {\n",
       "        text-align: right;\n",
       "    }\n",
       "</style>\n",
       "<table border=\"1\" class=\"dataframe\">\n",
       "  <thead>\n",
       "    <tr style=\"text-align: right;\">\n",
       "      <th></th>\n",
       "      <th>BEDRM</th>\n",
       "      <th>PRICE</th>\n",
       "    </tr>\n",
       "  </thead>\n",
       "  <tbody>\n",
       "    <tr>\n",
       "      <th>count</th>\n",
       "      <td>98216.000000</td>\n",
       "      <td>9.821600e+04</td>\n",
       "    </tr>\n",
       "    <tr>\n",
       "      <th>mean</th>\n",
       "      <td>2.606480</td>\n",
       "      <td>9.313516e+05</td>\n",
       "    </tr>\n",
       "    <tr>\n",
       "      <th>std</th>\n",
       "      <td>1.393801</td>\n",
       "      <td>7.061325e+06</td>\n",
       "    </tr>\n",
       "    <tr>\n",
       "      <th>min</th>\n",
       "      <td>0.000000</td>\n",
       "      <td>1.000000e+00</td>\n",
       "    </tr>\n",
       "    <tr>\n",
       "      <th>25%</th>\n",
       "      <td>2.000000</td>\n",
       "      <td>2.400000e+05</td>\n",
       "    </tr>\n",
       "    <tr>\n",
       "      <th>50%</th>\n",
       "      <td>3.000000</td>\n",
       "      <td>3.999990e+05</td>\n",
       "    </tr>\n",
       "    <tr>\n",
       "      <th>75%</th>\n",
       "      <td>3.000000</td>\n",
       "      <td>6.520000e+05</td>\n",
       "    </tr>\n",
       "    <tr>\n",
       "      <th>max</th>\n",
       "      <td>20.000000</td>\n",
       "      <td>1.374275e+08</td>\n",
       "    </tr>\n",
       "  </tbody>\n",
       "</table>\n",
       "</div>"
      ],
      "text/plain": [
       "              BEDRM         PRICE\n",
       "count  98216.000000  9.821600e+04\n",
       "mean       2.606480  9.313516e+05\n",
       "std        1.393801  7.061325e+06\n",
       "min        0.000000  1.000000e+00\n",
       "25%        2.000000  2.400000e+05\n",
       "50%        3.000000  3.999990e+05\n",
       "75%        3.000000  6.520000e+05\n",
       "max       20.000000  1.374275e+08"
      ]
     },
     "execution_count": 9,
     "metadata": {},
     "output_type": "execute_result"
    }
   ],
   "source": [
    "df2_no_missing.describe()"
   ]
  },
  {
   "cell_type": "code",
   "execution_count": 10,
   "metadata": {},
   "outputs": [
    {
     "data": {
      "text/plain": [
       "BEDRM    0\n",
       "PRICE    0\n",
       "WARD     0\n",
       "dtype: int64"
      ]
     },
     "execution_count": 10,
     "metadata": {},
     "output_type": "execute_result"
    }
   ],
   "source": [
    "df2_no_missing.isnull().sum()"
   ]
  },
  {
   "cell_type": "code",
   "execution_count": 11,
   "metadata": {},
   "outputs": [
    {
     "data": {
      "text/plain": [
       "BEDRM    98216\n",
       "PRICE    98216\n",
       "WARD     98216\n",
       "dtype: int64"
      ]
     },
     "execution_count": 11,
     "metadata": {},
     "output_type": "execute_result"
    }
   ],
   "source": [
    "df2_no_missing.count()"
   ]
  },
  {
   "cell_type": "code",
   "execution_count": 12,
   "metadata": {},
   "outputs": [
    {
     "data": {
      "text/html": [
       "<div>\n",
       "<style scoped>\n",
       "    .dataframe tbody tr th:only-of-type {\n",
       "        vertical-align: middle;\n",
       "    }\n",
       "\n",
       "    .dataframe tbody tr th {\n",
       "        vertical-align: top;\n",
       "    }\n",
       "\n",
       "    .dataframe thead th {\n",
       "        text-align: right;\n",
       "    }\n",
       "</style>\n",
       "<table border=\"1\" class=\"dataframe\">\n",
       "  <thead>\n",
       "    <tr style=\"text-align: right;\">\n",
       "      <th></th>\n",
       "      <th>BEDRM</th>\n",
       "      <th>PRICE</th>\n",
       "    </tr>\n",
       "  </thead>\n",
       "  <tbody>\n",
       "    <tr>\n",
       "      <th>count</th>\n",
       "      <td>98216.000000</td>\n",
       "      <td>9.821600e+04</td>\n",
       "    </tr>\n",
       "    <tr>\n",
       "      <th>mean</th>\n",
       "      <td>2.606480</td>\n",
       "      <td>9.313516e+05</td>\n",
       "    </tr>\n",
       "    <tr>\n",
       "      <th>std</th>\n",
       "      <td>1.393801</td>\n",
       "      <td>7.061325e+06</td>\n",
       "    </tr>\n",
       "    <tr>\n",
       "      <th>min</th>\n",
       "      <td>0.000000</td>\n",
       "      <td>1.000000e+00</td>\n",
       "    </tr>\n",
       "    <tr>\n",
       "      <th>25%</th>\n",
       "      <td>2.000000</td>\n",
       "      <td>2.400000e+05</td>\n",
       "    </tr>\n",
       "    <tr>\n",
       "      <th>50%</th>\n",
       "      <td>3.000000</td>\n",
       "      <td>3.999990e+05</td>\n",
       "    </tr>\n",
       "    <tr>\n",
       "      <th>75%</th>\n",
       "      <td>3.000000</td>\n",
       "      <td>6.520000e+05</td>\n",
       "    </tr>\n",
       "    <tr>\n",
       "      <th>max</th>\n",
       "      <td>20.000000</td>\n",
       "      <td>1.374275e+08</td>\n",
       "    </tr>\n",
       "  </tbody>\n",
       "</table>\n",
       "</div>"
      ],
      "text/plain": [
       "              BEDRM         PRICE\n",
       "count  98216.000000  9.821600e+04\n",
       "mean       2.606480  9.313516e+05\n",
       "std        1.393801  7.061325e+06\n",
       "min        0.000000  1.000000e+00\n",
       "25%        2.000000  2.400000e+05\n",
       "50%        3.000000  3.999990e+05\n",
       "75%        3.000000  6.520000e+05\n",
       "max       20.000000  1.374275e+08"
      ]
     },
     "execution_count": 12,
     "metadata": {},
     "output_type": "execute_result"
    }
   ],
   "source": [
    "df2_no_missing.describe()"
   ]
  },
  {
   "cell_type": "code",
   "execution_count": 13,
   "metadata": {},
   "outputs": [
    {
     "data": {
      "text/html": [
       "<div>\n",
       "<style scoped>\n",
       "    .dataframe tbody tr th:only-of-type {\n",
       "        vertical-align: middle;\n",
       "    }\n",
       "\n",
       "    .dataframe tbody tr th {\n",
       "        vertical-align: top;\n",
       "    }\n",
       "\n",
       "    .dataframe thead th {\n",
       "        text-align: right;\n",
       "    }\n",
       "</style>\n",
       "<table border=\"1\" class=\"dataframe\">\n",
       "  <thead>\n",
       "    <tr style=\"text-align: right;\">\n",
       "      <th></th>\n",
       "      <th></th>\n",
       "      <th>PRICE</th>\n",
       "    </tr>\n",
       "    <tr>\n",
       "      <th>BEDRM</th>\n",
       "      <th>WARD</th>\n",
       "      <th></th>\n",
       "    </tr>\n",
       "  </thead>\n",
       "  <tbody>\n",
       "    <tr>\n",
       "      <th rowspan=\"8\" valign=\"top\">0</th>\n",
       "      <th>Ward 1</th>\n",
       "      <td>4.374085e+05</td>\n",
       "    </tr>\n",
       "    <tr>\n",
       "      <th>Ward 2</th>\n",
       "      <td>1.063929e+06</td>\n",
       "    </tr>\n",
       "    <tr>\n",
       "      <th>Ward 3</th>\n",
       "      <td>8.533485e+06</td>\n",
       "    </tr>\n",
       "    <tr>\n",
       "      <th>Ward 4</th>\n",
       "      <td>2.534351e+05</td>\n",
       "    </tr>\n",
       "    <tr>\n",
       "      <th>Ward 5</th>\n",
       "      <td>2.259893e+05</td>\n",
       "    </tr>\n",
       "    <tr>\n",
       "      <th>Ward 6</th>\n",
       "      <td>2.346078e+05</td>\n",
       "    </tr>\n",
       "    <tr>\n",
       "      <th>Ward 7</th>\n",
       "      <td>3.995500e+05</td>\n",
       "    </tr>\n",
       "    <tr>\n",
       "      <th>Ward 8</th>\n",
       "      <td>2.426689e+06</td>\n",
       "    </tr>\n",
       "    <tr>\n",
       "      <th rowspan=\"8\" valign=\"top\">1</th>\n",
       "      <th>Ward 1</th>\n",
       "      <td>5.299856e+05</td>\n",
       "    </tr>\n",
       "    <tr>\n",
       "      <th>Ward 2</th>\n",
       "      <td>1.012982e+06</td>\n",
       "    </tr>\n",
       "    <tr>\n",
       "      <th>Ward 3</th>\n",
       "      <td>7.120841e+06</td>\n",
       "    </tr>\n",
       "    <tr>\n",
       "      <th>Ward 4</th>\n",
       "      <td>3.366974e+05</td>\n",
       "    </tr>\n",
       "    <tr>\n",
       "      <th>Ward 5</th>\n",
       "      <td>2.355410e+05</td>\n",
       "    </tr>\n",
       "    <tr>\n",
       "      <th>Ward 6</th>\n",
       "      <td>3.477035e+05</td>\n",
       "    </tr>\n",
       "    <tr>\n",
       "      <th>Ward 7</th>\n",
       "      <td>1.865158e+05</td>\n",
       "    </tr>\n",
       "    <tr>\n",
       "      <th>Ward 8</th>\n",
       "      <td>5.731426e+05</td>\n",
       "    </tr>\n",
       "    <tr>\n",
       "      <th rowspan=\"8\" valign=\"top\">2</th>\n",
       "      <th>Ward 1</th>\n",
       "      <td>5.647922e+05</td>\n",
       "    </tr>\n",
       "    <tr>\n",
       "      <th>Ward 2</th>\n",
       "      <td>9.294823e+05</td>\n",
       "    </tr>\n",
       "    <tr>\n",
       "      <th>Ward 3</th>\n",
       "      <td>1.926562e+06</td>\n",
       "    </tr>\n",
       "    <tr>\n",
       "      <th>Ward 4</th>\n",
       "      <td>3.646553e+05</td>\n",
       "    </tr>\n",
       "    <tr>\n",
       "      <th>Ward 5</th>\n",
       "      <td>3.335439e+05</td>\n",
       "    </tr>\n",
       "    <tr>\n",
       "      <th>Ward 6</th>\n",
       "      <td>5.019941e+05</td>\n",
       "    </tr>\n",
       "    <tr>\n",
       "      <th>Ward 7</th>\n",
       "      <td>1.984242e+05</td>\n",
       "    </tr>\n",
       "    <tr>\n",
       "      <th>Ward 8</th>\n",
       "      <td>2.195843e+05</td>\n",
       "    </tr>\n",
       "    <tr>\n",
       "      <th rowspan=\"6\" valign=\"top\">3</th>\n",
       "      <th>Ward 1</th>\n",
       "      <td>5.385860e+05</td>\n",
       "    </tr>\n",
       "    <tr>\n",
       "      <th>Ward 2</th>\n",
       "      <td>1.266270e+06</td>\n",
       "    </tr>\n",
       "    <tr>\n",
       "      <th>Ward 3</th>\n",
       "      <td>7.411769e+05</td>\n",
       "    </tr>\n",
       "    <tr>\n",
       "      <th>Ward 4</th>\n",
       "      <td>4.206029e+05</td>\n",
       "    </tr>\n",
       "    <tr>\n",
       "      <th>Ward 5</th>\n",
       "      <td>3.864872e+05</td>\n",
       "    </tr>\n",
       "    <tr>\n",
       "      <th>Ward 6</th>\n",
       "      <td>5.808165e+05</td>\n",
       "    </tr>\n",
       "    <tr>\n",
       "      <th>...</th>\n",
       "      <th>...</th>\n",
       "      <td>...</td>\n",
       "    </tr>\n",
       "    <tr>\n",
       "      <th rowspan=\"7\" valign=\"top\">9</th>\n",
       "      <th>Ward 2</th>\n",
       "      <td>6.007558e+06</td>\n",
       "    </tr>\n",
       "    <tr>\n",
       "      <th>Ward 3</th>\n",
       "      <td>4.422222e+06</td>\n",
       "    </tr>\n",
       "    <tr>\n",
       "      <th>Ward 4</th>\n",
       "      <td>7.910357e+05</td>\n",
       "    </tr>\n",
       "    <tr>\n",
       "      <th>Ward 5</th>\n",
       "      <td>3.350000e+05</td>\n",
       "    </tr>\n",
       "    <tr>\n",
       "      <th>Ward 6</th>\n",
       "      <td>6.532786e+05</td>\n",
       "    </tr>\n",
       "    <tr>\n",
       "      <th>Ward 7</th>\n",
       "      <td>3.400000e+05</td>\n",
       "    </tr>\n",
       "    <tr>\n",
       "      <th>Ward 8</th>\n",
       "      <td>2.537000e+05</td>\n",
       "    </tr>\n",
       "    <tr>\n",
       "      <th rowspan=\"7\" valign=\"top\">10</th>\n",
       "      <th>Ward 1</th>\n",
       "      <td>9.180000e+05</td>\n",
       "    </tr>\n",
       "    <tr>\n",
       "      <th>Ward 2</th>\n",
       "      <td>8.430000e+05</td>\n",
       "    </tr>\n",
       "    <tr>\n",
       "      <th>Ward 3</th>\n",
       "      <td>1.297000e+06</td>\n",
       "    </tr>\n",
       "    <tr>\n",
       "      <th>Ward 5</th>\n",
       "      <td>3.499995e+05</td>\n",
       "    </tr>\n",
       "    <tr>\n",
       "      <th>Ward 6</th>\n",
       "      <td>9.212500e+05</td>\n",
       "    </tr>\n",
       "    <tr>\n",
       "      <th>Ward 7</th>\n",
       "      <td>3.535005e+05</td>\n",
       "    </tr>\n",
       "    <tr>\n",
       "      <th>Ward 8</th>\n",
       "      <td>2.389107e+05</td>\n",
       "    </tr>\n",
       "    <tr>\n",
       "      <th rowspan=\"5\" valign=\"top\">11</th>\n",
       "      <th>Ward 2</th>\n",
       "      <td>2.800000e+05</td>\n",
       "    </tr>\n",
       "    <tr>\n",
       "      <th>Ward 4</th>\n",
       "      <td>7.000000e+05</td>\n",
       "    </tr>\n",
       "    <tr>\n",
       "      <th>Ward 5</th>\n",
       "      <td>2.200000e+06</td>\n",
       "    </tr>\n",
       "    <tr>\n",
       "      <th>Ward 6</th>\n",
       "      <td>1.850000e+06</td>\n",
       "    </tr>\n",
       "    <tr>\n",
       "      <th>Ward 8</th>\n",
       "      <td>3.489200e+05</td>\n",
       "    </tr>\n",
       "    <tr>\n",
       "      <th rowspan=\"7\" valign=\"top\">12</th>\n",
       "      <th>Ward 1</th>\n",
       "      <td>7.480000e+05</td>\n",
       "    </tr>\n",
       "    <tr>\n",
       "      <th>Ward 2</th>\n",
       "      <td>2.396029e+07</td>\n",
       "    </tr>\n",
       "    <tr>\n",
       "      <th>Ward 4</th>\n",
       "      <td>2.915000e+05</td>\n",
       "    </tr>\n",
       "    <tr>\n",
       "      <th>Ward 5</th>\n",
       "      <td>5.608333e+05</td>\n",
       "    </tr>\n",
       "    <tr>\n",
       "      <th>Ward 6</th>\n",
       "      <td>2.000000e+05</td>\n",
       "    </tr>\n",
       "    <tr>\n",
       "      <th>Ward 7</th>\n",
       "      <td>4.150000e+05</td>\n",
       "    </tr>\n",
       "    <tr>\n",
       "      <th>Ward 8</th>\n",
       "      <td>3.064377e+05</td>\n",
       "    </tr>\n",
       "    <tr>\n",
       "      <th>13</th>\n",
       "      <th>Ward 8</th>\n",
       "      <td>4.425000e+05</td>\n",
       "    </tr>\n",
       "    <tr>\n",
       "      <th>14</th>\n",
       "      <th>Ward 1</th>\n",
       "      <td>9.250000e+05</td>\n",
       "    </tr>\n",
       "    <tr>\n",
       "      <th>15</th>\n",
       "      <th>Ward 1</th>\n",
       "      <td>1.105000e+06</td>\n",
       "    </tr>\n",
       "    <tr>\n",
       "      <th>20</th>\n",
       "      <th>Ward 1</th>\n",
       "      <td>1.900000e+06</td>\n",
       "    </tr>\n",
       "  </tbody>\n",
       "</table>\n",
       "<p>103 rows × 1 columns</p>\n",
       "</div>"
      ],
      "text/plain": [
       "                     PRICE\n",
       "BEDRM WARD                \n",
       "0     Ward 1  4.374085e+05\n",
       "      Ward 2  1.063929e+06\n",
       "      Ward 3  8.533485e+06\n",
       "      Ward 4  2.534351e+05\n",
       "      Ward 5  2.259893e+05\n",
       "      Ward 6  2.346078e+05\n",
       "      Ward 7  3.995500e+05\n",
       "      Ward 8  2.426689e+06\n",
       "1     Ward 1  5.299856e+05\n",
       "      Ward 2  1.012982e+06\n",
       "      Ward 3  7.120841e+06\n",
       "      Ward 4  3.366974e+05\n",
       "      Ward 5  2.355410e+05\n",
       "      Ward 6  3.477035e+05\n",
       "      Ward 7  1.865158e+05\n",
       "      Ward 8  5.731426e+05\n",
       "2     Ward 1  5.647922e+05\n",
       "      Ward 2  9.294823e+05\n",
       "      Ward 3  1.926562e+06\n",
       "      Ward 4  3.646553e+05\n",
       "      Ward 5  3.335439e+05\n",
       "      Ward 6  5.019941e+05\n",
       "      Ward 7  1.984242e+05\n",
       "      Ward 8  2.195843e+05\n",
       "3     Ward 1  5.385860e+05\n",
       "      Ward 2  1.266270e+06\n",
       "      Ward 3  7.411769e+05\n",
       "      Ward 4  4.206029e+05\n",
       "      Ward 5  3.864872e+05\n",
       "      Ward 6  5.808165e+05\n",
       "...                    ...\n",
       "9     Ward 2  6.007558e+06\n",
       "      Ward 3  4.422222e+06\n",
       "      Ward 4  7.910357e+05\n",
       "      Ward 5  3.350000e+05\n",
       "      Ward 6  6.532786e+05\n",
       "      Ward 7  3.400000e+05\n",
       "      Ward 8  2.537000e+05\n",
       "10    Ward 1  9.180000e+05\n",
       "      Ward 2  8.430000e+05\n",
       "      Ward 3  1.297000e+06\n",
       "      Ward 5  3.499995e+05\n",
       "      Ward 6  9.212500e+05\n",
       "      Ward 7  3.535005e+05\n",
       "      Ward 8  2.389107e+05\n",
       "11    Ward 2  2.800000e+05\n",
       "      Ward 4  7.000000e+05\n",
       "      Ward 5  2.200000e+06\n",
       "      Ward 6  1.850000e+06\n",
       "      Ward 8  3.489200e+05\n",
       "12    Ward 1  7.480000e+05\n",
       "      Ward 2  2.396029e+07\n",
       "      Ward 4  2.915000e+05\n",
       "      Ward 5  5.608333e+05\n",
       "      Ward 6  2.000000e+05\n",
       "      Ward 7  4.150000e+05\n",
       "      Ward 8  3.064377e+05\n",
       "13    Ward 8  4.425000e+05\n",
       "14    Ward 1  9.250000e+05\n",
       "15    Ward 1  1.105000e+06\n",
       "20    Ward 1  1.900000e+06\n",
       "\n",
       "[103 rows x 1 columns]"
      ]
     },
     "execution_count": 13,
     "metadata": {},
     "output_type": "execute_result"
    }
   ],
   "source": [
    "df2_no_missing.groupby(['BEDRM','WARD']).mean()"
   ]
  },
  {
   "cell_type": "code",
   "execution_count": 14,
   "metadata": {
    "scrolled": false
   },
   "outputs": [
    {
     "data": {
      "text/html": [
       "<div>\n",
       "<style scoped>\n",
       "    .dataframe tbody tr th:only-of-type {\n",
       "        vertical-align: middle;\n",
       "    }\n",
       "\n",
       "    .dataframe tbody tr th {\n",
       "        vertical-align: top;\n",
       "    }\n",
       "\n",
       "    .dataframe thead tr th {\n",
       "        text-align: left;\n",
       "    }\n",
       "\n",
       "    .dataframe thead tr:last-of-type th {\n",
       "        text-align: right;\n",
       "    }\n",
       "</style>\n",
       "<table border=\"1\" class=\"dataframe\">\n",
       "  <thead>\n",
       "    <tr>\n",
       "      <th></th>\n",
       "      <th colspan=\"8\" halign=\"left\">mean</th>\n",
       "    </tr>\n",
       "    <tr>\n",
       "      <th></th>\n",
       "      <th colspan=\"8\" halign=\"left\">PRICE</th>\n",
       "    </tr>\n",
       "    <tr>\n",
       "      <th>WARD</th>\n",
       "      <th>Ward 1</th>\n",
       "      <th>Ward 2</th>\n",
       "      <th>Ward 3</th>\n",
       "      <th>Ward 4</th>\n",
       "      <th>Ward 5</th>\n",
       "      <th>Ward 6</th>\n",
       "      <th>Ward 7</th>\n",
       "      <th>Ward 8</th>\n",
       "    </tr>\n",
       "    <tr>\n",
       "      <th>BEDRM</th>\n",
       "      <th></th>\n",
       "      <th></th>\n",
       "      <th></th>\n",
       "      <th></th>\n",
       "      <th></th>\n",
       "      <th></th>\n",
       "      <th></th>\n",
       "      <th></th>\n",
       "    </tr>\n",
       "  </thead>\n",
       "  <tbody>\n",
       "    <tr>\n",
       "      <th>0</th>\n",
       "      <td>437409.0</td>\n",
       "      <td>1063929.0</td>\n",
       "      <td>8533485.0</td>\n",
       "      <td>253435.0</td>\n",
       "      <td>225989.0</td>\n",
       "      <td>234608.0</td>\n",
       "      <td>399550.0</td>\n",
       "      <td>2426689.0</td>\n",
       "    </tr>\n",
       "    <tr>\n",
       "      <th>1</th>\n",
       "      <td>529986.0</td>\n",
       "      <td>1012982.0</td>\n",
       "      <td>7120841.0</td>\n",
       "      <td>336697.0</td>\n",
       "      <td>235541.0</td>\n",
       "      <td>347703.0</td>\n",
       "      <td>186516.0</td>\n",
       "      <td>573143.0</td>\n",
       "    </tr>\n",
       "    <tr>\n",
       "      <th>2</th>\n",
       "      <td>564792.0</td>\n",
       "      <td>929482.0</td>\n",
       "      <td>1926562.0</td>\n",
       "      <td>364655.0</td>\n",
       "      <td>333544.0</td>\n",
       "      <td>501994.0</td>\n",
       "      <td>198424.0</td>\n",
       "      <td>219584.0</td>\n",
       "    </tr>\n",
       "    <tr>\n",
       "      <th>3</th>\n",
       "      <td>538586.0</td>\n",
       "      <td>1266270.0</td>\n",
       "      <td>741177.0</td>\n",
       "      <td>420603.0</td>\n",
       "      <td>386487.0</td>\n",
       "      <td>580816.0</td>\n",
       "      <td>237921.0</td>\n",
       "      <td>224247.0</td>\n",
       "    </tr>\n",
       "    <tr>\n",
       "      <th>4</th>\n",
       "      <td>651662.0</td>\n",
       "      <td>1438164.0</td>\n",
       "      <td>975773.0</td>\n",
       "      <td>582012.0</td>\n",
       "      <td>477404.0</td>\n",
       "      <td>722335.0</td>\n",
       "      <td>297808.0</td>\n",
       "      <td>283714.0</td>\n",
       "    </tr>\n",
       "    <tr>\n",
       "      <th>5</th>\n",
       "      <td>784597.0</td>\n",
       "      <td>1767520.0</td>\n",
       "      <td>1421718.0</td>\n",
       "      <td>752056.0</td>\n",
       "      <td>573721.0</td>\n",
       "      <td>872816.0</td>\n",
       "      <td>323470.0</td>\n",
       "      <td>265254.0</td>\n",
       "    </tr>\n",
       "    <tr>\n",
       "      <th>6</th>\n",
       "      <td>843308.0</td>\n",
       "      <td>2274467.0</td>\n",
       "      <td>1938651.0</td>\n",
       "      <td>814018.0</td>\n",
       "      <td>542236.0</td>\n",
       "      <td>892812.0</td>\n",
       "      <td>295781.0</td>\n",
       "      <td>263135.0</td>\n",
       "    </tr>\n",
       "    <tr>\n",
       "      <th>7</th>\n",
       "      <td>934500.0</td>\n",
       "      <td>2486571.0</td>\n",
       "      <td>2690038.0</td>\n",
       "      <td>887765.0</td>\n",
       "      <td>623350.0</td>\n",
       "      <td>1000159.0</td>\n",
       "      <td>265101.0</td>\n",
       "      <td>327200.0</td>\n",
       "    </tr>\n",
       "    <tr>\n",
       "      <th>8</th>\n",
       "      <td>819119.0</td>\n",
       "      <td>3038708.0</td>\n",
       "      <td>2638443.0</td>\n",
       "      <td>528914.0</td>\n",
       "      <td>407348.0</td>\n",
       "      <td>573041.0</td>\n",
       "      <td>280391.0</td>\n",
       "      <td>355596.0</td>\n",
       "    </tr>\n",
       "    <tr>\n",
       "      <th>9</th>\n",
       "      <td>1037317.0</td>\n",
       "      <td>6007558.0</td>\n",
       "      <td>4422222.0</td>\n",
       "      <td>791036.0</td>\n",
       "      <td>335000.0</td>\n",
       "      <td>653279.0</td>\n",
       "      <td>340000.0</td>\n",
       "      <td>253700.0</td>\n",
       "    </tr>\n",
       "    <tr>\n",
       "      <th>10</th>\n",
       "      <td>918000.0</td>\n",
       "      <td>843000.0</td>\n",
       "      <td>1297000.0</td>\n",
       "      <td>0.0</td>\n",
       "      <td>350000.0</td>\n",
       "      <td>921250.0</td>\n",
       "      <td>353500.0</td>\n",
       "      <td>238911.0</td>\n",
       "    </tr>\n",
       "    <tr>\n",
       "      <th>11</th>\n",
       "      <td>0.0</td>\n",
       "      <td>280000.0</td>\n",
       "      <td>0.0</td>\n",
       "      <td>700000.0</td>\n",
       "      <td>2200000.0</td>\n",
       "      <td>1850000.0</td>\n",
       "      <td>0.0</td>\n",
       "      <td>348920.0</td>\n",
       "    </tr>\n",
       "    <tr>\n",
       "      <th>12</th>\n",
       "      <td>748000.0</td>\n",
       "      <td>23960287.0</td>\n",
       "      <td>0.0</td>\n",
       "      <td>291500.0</td>\n",
       "      <td>560833.0</td>\n",
       "      <td>200000.0</td>\n",
       "      <td>415000.0</td>\n",
       "      <td>306438.0</td>\n",
       "    </tr>\n",
       "    <tr>\n",
       "      <th>13</th>\n",
       "      <td>0.0</td>\n",
       "      <td>0.0</td>\n",
       "      <td>0.0</td>\n",
       "      <td>0.0</td>\n",
       "      <td>0.0</td>\n",
       "      <td>0.0</td>\n",
       "      <td>0.0</td>\n",
       "      <td>442500.0</td>\n",
       "    </tr>\n",
       "    <tr>\n",
       "      <th>14</th>\n",
       "      <td>925000.0</td>\n",
       "      <td>0.0</td>\n",
       "      <td>0.0</td>\n",
       "      <td>0.0</td>\n",
       "      <td>0.0</td>\n",
       "      <td>0.0</td>\n",
       "      <td>0.0</td>\n",
       "      <td>0.0</td>\n",
       "    </tr>\n",
       "    <tr>\n",
       "      <th>15</th>\n",
       "      <td>1105000.0</td>\n",
       "      <td>0.0</td>\n",
       "      <td>0.0</td>\n",
       "      <td>0.0</td>\n",
       "      <td>0.0</td>\n",
       "      <td>0.0</td>\n",
       "      <td>0.0</td>\n",
       "      <td>0.0</td>\n",
       "    </tr>\n",
       "    <tr>\n",
       "      <th>20</th>\n",
       "      <td>1900000.0</td>\n",
       "      <td>0.0</td>\n",
       "      <td>0.0</td>\n",
       "      <td>0.0</td>\n",
       "      <td>0.0</td>\n",
       "      <td>0.0</td>\n",
       "      <td>0.0</td>\n",
       "      <td>0.0</td>\n",
       "    </tr>\n",
       "  </tbody>\n",
       "</table>\n",
       "</div>"
      ],
      "text/plain": [
       "            mean                                                         \\\n",
       "           PRICE                                                          \n",
       "WARD      Ward 1      Ward 2     Ward 3    Ward 4     Ward 5     Ward 6   \n",
       "BEDRM                                                                     \n",
       "0       437409.0   1063929.0  8533485.0  253435.0   225989.0   234608.0   \n",
       "1       529986.0   1012982.0  7120841.0  336697.0   235541.0   347703.0   \n",
       "2       564792.0    929482.0  1926562.0  364655.0   333544.0   501994.0   \n",
       "3       538586.0   1266270.0   741177.0  420603.0   386487.0   580816.0   \n",
       "4       651662.0   1438164.0   975773.0  582012.0   477404.0   722335.0   \n",
       "5       784597.0   1767520.0  1421718.0  752056.0   573721.0   872816.0   \n",
       "6       843308.0   2274467.0  1938651.0  814018.0   542236.0   892812.0   \n",
       "7       934500.0   2486571.0  2690038.0  887765.0   623350.0  1000159.0   \n",
       "8       819119.0   3038708.0  2638443.0  528914.0   407348.0   573041.0   \n",
       "9      1037317.0   6007558.0  4422222.0  791036.0   335000.0   653279.0   \n",
       "10      918000.0    843000.0  1297000.0       0.0   350000.0   921250.0   \n",
       "11           0.0    280000.0        0.0  700000.0  2200000.0  1850000.0   \n",
       "12      748000.0  23960287.0        0.0  291500.0   560833.0   200000.0   \n",
       "13           0.0         0.0        0.0       0.0        0.0        0.0   \n",
       "14      925000.0         0.0        0.0       0.0        0.0        0.0   \n",
       "15     1105000.0         0.0        0.0       0.0        0.0        0.0   \n",
       "20     1900000.0         0.0        0.0       0.0        0.0        0.0   \n",
       "\n",
       "                            \n",
       "                            \n",
       "WARD     Ward 7     Ward 8  \n",
       "BEDRM                       \n",
       "0      399550.0  2426689.0  \n",
       "1      186516.0   573143.0  \n",
       "2      198424.0   219584.0  \n",
       "3      237921.0   224247.0  \n",
       "4      297808.0   283714.0  \n",
       "5      323470.0   265254.0  \n",
       "6      295781.0   263135.0  \n",
       "7      265101.0   327200.0  \n",
       "8      280391.0   355596.0  \n",
       "9      340000.0   253700.0  \n",
       "10     353500.0   238911.0  \n",
       "11          0.0   348920.0  \n",
       "12     415000.0   306438.0  \n",
       "13          0.0   442500.0  \n",
       "14          0.0        0.0  \n",
       "15          0.0        0.0  \n",
       "20          0.0        0.0  "
      ]
     },
     "execution_count": 14,
     "metadata": {},
     "output_type": "execute_result"
    }
   ],
   "source": [
    "pd.pivot_table(df2_no_missing,index=[\"BEDRM\"],values=[\"PRICE\"],columns=[\"WARD\"],aggfunc=[np.mean],fill_value=0).round(0)\n"
   ]
  },
  {
   "cell_type": "code",
   "execution_count": 15,
   "metadata": {},
   "outputs": [],
   "source": [
    "#This graph is intended to show the mean cost of a home by bedrooms by ward. Interesting things to note: 0 bedroom rooms are surprisingly expensive across the wards.\n",
    "#Prices for 3 and 4 bedroom homes are surprisingly cheap in ward 3, while 2 bedroom homes in Ward 2 are cheaper than expected. "
   ]
  },
  {
   "cell_type": "code",
   "execution_count": 16,
   "metadata": {},
   "outputs": [],
   "source": [
    "#PROJECT2"
   ]
  },
  {
   "cell_type": "code",
   "execution_count": 17,
   "metadata": {},
   "outputs": [],
   "source": [
    "\n",
    "from matplotlib import pyplot as plt\n",
    "import seaborn as sns\n",
    "\n",
    "%matplotlib inline\n"
   ]
  },
  {
   "cell_type": "code",
   "execution_count": 18,
   "metadata": {},
   "outputs": [],
   "source": [
    "df3=df[['BEDRM','PRICE','WARD','BATHRM']]"
   ]
  },
  {
   "cell_type": "code",
   "execution_count": 19,
   "metadata": {},
   "outputs": [
    {
     "data": {
      "text/plain": [
       "BEDRM         0\n",
       "PRICE     60741\n",
       "WARD          1\n",
       "BATHRM        0\n",
       "dtype: int64"
      ]
     },
     "execution_count": 19,
     "metadata": {},
     "output_type": "execute_result"
    }
   ],
   "source": [
    "df3_no_missing = df3.dropna()\n",
    "df3.isnull().sum()"
   ]
  },
  {
   "cell_type": "code",
   "execution_count": 20,
   "metadata": {},
   "outputs": [
    {
     "data": {
      "text/plain": [
       "BEDRM    0\n",
       "PRICE    0\n",
       "WARD     0\n",
       "dtype: int64"
      ]
     },
     "execution_count": 20,
     "metadata": {},
     "output_type": "execute_result"
    }
   ],
   "source": [
    "df2_no_missing.isnull().sum()"
   ]
  },
  {
   "cell_type": "code",
   "execution_count": 21,
   "metadata": {},
   "outputs": [
    {
     "data": {
      "text/html": [
       "<div>\n",
       "<style scoped>\n",
       "    .dataframe tbody tr th:only-of-type {\n",
       "        vertical-align: middle;\n",
       "    }\n",
       "\n",
       "    .dataframe tbody tr th {\n",
       "        vertical-align: top;\n",
       "    }\n",
       "\n",
       "    .dataframe thead th {\n",
       "        text-align: right;\n",
       "    }\n",
       "</style>\n",
       "<table border=\"1\" class=\"dataframe\">\n",
       "  <thead>\n",
       "    <tr style=\"text-align: right;\">\n",
       "      <th></th>\n",
       "      <th>BEDRM</th>\n",
       "      <th>PRICE</th>\n",
       "      <th>BATHRM</th>\n",
       "    </tr>\n",
       "  </thead>\n",
       "  <tbody>\n",
       "    <tr>\n",
       "      <th>count</th>\n",
       "      <td>98216.0</td>\n",
       "      <td>98216.0</td>\n",
       "      <td>98216.0</td>\n",
       "    </tr>\n",
       "    <tr>\n",
       "      <th>mean</th>\n",
       "      <td>3.0</td>\n",
       "      <td>931352.0</td>\n",
       "      <td>2.0</td>\n",
       "    </tr>\n",
       "    <tr>\n",
       "      <th>std</th>\n",
       "      <td>1.0</td>\n",
       "      <td>7061325.0</td>\n",
       "      <td>1.0</td>\n",
       "    </tr>\n",
       "    <tr>\n",
       "      <th>min</th>\n",
       "      <td>0.0</td>\n",
       "      <td>1.0</td>\n",
       "      <td>0.0</td>\n",
       "    </tr>\n",
       "    <tr>\n",
       "      <th>25%</th>\n",
       "      <td>2.0</td>\n",
       "      <td>240000.0</td>\n",
       "      <td>1.0</td>\n",
       "    </tr>\n",
       "    <tr>\n",
       "      <th>50%</th>\n",
       "      <td>3.0</td>\n",
       "      <td>399999.0</td>\n",
       "      <td>2.0</td>\n",
       "    </tr>\n",
       "    <tr>\n",
       "      <th>75%</th>\n",
       "      <td>3.0</td>\n",
       "      <td>652000.0</td>\n",
       "      <td>2.0</td>\n",
       "    </tr>\n",
       "    <tr>\n",
       "      <th>max</th>\n",
       "      <td>20.0</td>\n",
       "      <td>137427545.0</td>\n",
       "      <td>12.0</td>\n",
       "    </tr>\n",
       "  </tbody>\n",
       "</table>\n",
       "</div>"
      ],
      "text/plain": [
       "         BEDRM        PRICE   BATHRM\n",
       "count  98216.0      98216.0  98216.0\n",
       "mean       3.0     931352.0      2.0\n",
       "std        1.0    7061325.0      1.0\n",
       "min        0.0          1.0      0.0\n",
       "25%        2.0     240000.0      1.0\n",
       "50%        3.0     399999.0      2.0\n",
       "75%        3.0     652000.0      2.0\n",
       "max       20.0  137427545.0     12.0"
      ]
     },
     "execution_count": 21,
     "metadata": {},
     "output_type": "execute_result"
    }
   ],
   "source": [
    "df3_no_missing.describe().round()"
   ]
  },
  {
   "cell_type": "code",
   "execution_count": 22,
   "metadata": {},
   "outputs": [
    {
     "data": {
      "text/html": [
       "<div>\n",
       "<style scoped>\n",
       "    .dataframe tbody tr th:only-of-type {\n",
       "        vertical-align: middle;\n",
       "    }\n",
       "\n",
       "    .dataframe tbody tr th {\n",
       "        vertical-align: top;\n",
       "    }\n",
       "\n",
       "    .dataframe thead th {\n",
       "        text-align: right;\n",
       "    }\n",
       "</style>\n",
       "<table border=\"1\" class=\"dataframe\">\n",
       "  <thead>\n",
       "    <tr style=\"text-align: right;\">\n",
       "      <th></th>\n",
       "      <th>BEDRM</th>\n",
       "      <th>PRICE</th>\n",
       "      <th>WARD</th>\n",
       "      <th>BATHRM</th>\n",
       "    </tr>\n",
       "  </thead>\n",
       "  <tbody>\n",
       "    <tr>\n",
       "      <th>0</th>\n",
       "      <td>4</td>\n",
       "      <td>1095000.0</td>\n",
       "      <td>Ward 2</td>\n",
       "      <td>4</td>\n",
       "    </tr>\n",
       "    <tr>\n",
       "      <th>2</th>\n",
       "      <td>5</td>\n",
       "      <td>2100000.0</td>\n",
       "      <td>Ward 2</td>\n",
       "      <td>3</td>\n",
       "    </tr>\n",
       "    <tr>\n",
       "      <th>3</th>\n",
       "      <td>5</td>\n",
       "      <td>1602000.0</td>\n",
       "      <td>Ward 2</td>\n",
       "      <td>3</td>\n",
       "    </tr>\n",
       "    <tr>\n",
       "      <th>5</th>\n",
       "      <td>5</td>\n",
       "      <td>1950000.0</td>\n",
       "      <td>Ward 2</td>\n",
       "      <td>3</td>\n",
       "    </tr>\n",
       "    <tr>\n",
       "      <th>7</th>\n",
       "      <td>4</td>\n",
       "      <td>1050000.0</td>\n",
       "      <td>Ward 2</td>\n",
       "      <td>3</td>\n",
       "    </tr>\n",
       "  </tbody>\n",
       "</table>\n",
       "</div>"
      ],
      "text/plain": [
       "   BEDRM      PRICE    WARD  BATHRM\n",
       "0      4  1095000.0  Ward 2       4\n",
       "2      5  2100000.0  Ward 2       3\n",
       "3      5  1602000.0  Ward 2       3\n",
       "5      5  1950000.0  Ward 2       3\n",
       "7      4  1050000.0  Ward 2       3"
      ]
     },
     "execution_count": 22,
     "metadata": {},
     "output_type": "execute_result"
    }
   ],
   "source": [
    "meanprice = df3_no_missing['PRICE'].mean()\n",
    "stdprice = df3_no_missing['PRICE'].std()\n",
    "toprange = meanprice + stdprice * 1.96\n",
    "botrange = meanprice - stdprice * 1.96\n",
    "\n",
    "copydf3 =df3_no_missing.copy()\n",
    "copydf3 =copydf3.drop(copydf3[copydf3['PRICE'] > toprange].index)\n",
    "copydf3 =copydf3.drop(copydf3[copydf3['PRICE'] < botrange].index)\n",
    "\n",
    "copydf3.head()"
   ]
  },
  {
   "cell_type": "code",
   "execution_count": 23,
   "metadata": {},
   "outputs": [
    {
     "data": {
      "text/plain": [
       "BEDRM     97848\n",
       "PRICE     97848\n",
       "WARD      97848\n",
       "BATHRM    97848\n",
       "dtype: int64"
      ]
     },
     "execution_count": 23,
     "metadata": {},
     "output_type": "execute_result"
    }
   ],
   "source": [
    "copydf3.count()"
   ]
  },
  {
   "cell_type": "code",
   "execution_count": 24,
   "metadata": {},
   "outputs": [],
   "source": [
    "#Checking that Outliers are removed"
   ]
  },
  {
   "cell_type": "code",
   "execution_count": 25,
   "metadata": {},
   "outputs": [
    {
     "name": "stderr",
     "output_type": "stream",
     "text": [
      "/anaconda3/lib/python3.7/site-packages/scipy/stats/stats.py:1713: FutureWarning: Using a non-tuple sequence for multidimensional indexing is deprecated; use `arr[tuple(seq)]` instead of `arr[seq]`. In the future this will be interpreted as an array index, `arr[np.array(seq)]`, which will result either in an error or a different result.\n",
      "  return np.add.reduce(sorted[indexer] * weights, axis=axis) / sumval\n"
     ]
    },
    {
     "data": {
      "text/plain": [
       "<seaborn.axisgrid.FacetGrid at 0x104a1bbe0>"
      ]
     },
     "execution_count": 25,
     "metadata": {},
     "output_type": "execute_result"
    },
    {
     "data": {
      "image/png": "[encoded data removed]",
      "text/plain": [
       "<Figure size 432x360 with 1 Axes>"
      ]
     },
     "metadata": {
      "needs_background": "light"
     },
     "output_type": "display_data"
    }
   ],
   "source": [
    "sns.lmplot(x='PRICE', y='BEDRM', data=copydf3, fit_reg=True, hue='WARD')"
   ]
  },
  {
   "cell_type": "code",
   "execution_count": 26,
   "metadata": {},
   "outputs": [],
   "source": [
    "#Ward 1,7,and 8 do not fit the trend seen in the other wards, where the more bedrooms a house has, the more the cost. "
   ]
  },
  {
   "cell_type": "code",
   "execution_count": 27,
   "metadata": {},
   "outputs": [
    {
     "data": {
      "text/html": [
       "<div>\n",
       "<style scoped>\n",
       "    .dataframe tbody tr th:only-of-type {\n",
       "        vertical-align: middle;\n",
       "    }\n",
       "\n",
       "    .dataframe tbody tr th {\n",
       "        vertical-align: top;\n",
       "    }\n",
       "\n",
       "    .dataframe thead th {\n",
       "        text-align: right;\n",
       "    }\n",
       "</style>\n",
       "<table border=\"1\" class=\"dataframe\">\n",
       "  <thead>\n",
       "    <tr style=\"text-align: right;\">\n",
       "      <th></th>\n",
       "      <th>PRICE</th>\n",
       "      <th>WARD</th>\n",
       "    </tr>\n",
       "  </thead>\n",
       "  <tbody>\n",
       "    <tr>\n",
       "      <th>0</th>\n",
       "      <td>1095000.0</td>\n",
       "      <td>Ward 2</td>\n",
       "    </tr>\n",
       "    <tr>\n",
       "      <th>2</th>\n",
       "      <td>2100000.0</td>\n",
       "      <td>Ward 2</td>\n",
       "    </tr>\n",
       "    <tr>\n",
       "      <th>3</th>\n",
       "      <td>1602000.0</td>\n",
       "      <td>Ward 2</td>\n",
       "    </tr>\n",
       "    <tr>\n",
       "      <th>5</th>\n",
       "      <td>1950000.0</td>\n",
       "      <td>Ward 2</td>\n",
       "    </tr>\n",
       "    <tr>\n",
       "      <th>7</th>\n",
       "      <td>1050000.0</td>\n",
       "      <td>Ward 2</td>\n",
       "    </tr>\n",
       "  </tbody>\n",
       "</table>\n",
       "</div>"
      ],
      "text/plain": [
       "       PRICE    WARD\n",
       "0  1095000.0  Ward 2\n",
       "2  2100000.0  Ward 2\n",
       "3  1602000.0  Ward 2\n",
       "5  1950000.0  Ward 2\n",
       "7  1050000.0  Ward 2"
      ]
     },
     "execution_count": 27,
     "metadata": {},
     "output_type": "execute_result"
    }
   ],
   "source": [
    "price_ward_df = copydf3.drop(['BEDRM', 'BATHRM'], axis=1)\n",
    "price_ward_df.head()"
   ]
  },
  {
   "cell_type": "code",
   "execution_count": 28,
   "metadata": {},
   "outputs": [
    {
     "data": {
      "text/plain": [
       "<matplotlib.axes._subplots.AxesSubplot at 0x1a17cbdac8>"
      ]
     },
     "execution_count": 28,
     "metadata": {},
     "output_type": "execute_result"
    },
    {
     "data": {
      "image/png": "[encoded data removed]",
      "text/plain": [
       "<Figure size 432x288 with 2 Axes>"
      ]
     },
     "metadata": {
      "needs_background": "light"
     },
     "output_type": "display_data"
    }
   ],
   "source": [
    "price_bedrm_df = copydf3.drop(['WARD', 'BATHRM'], axis=1)\n",
    "corr = price_bedrm_df.corr()\n",
    "\n",
    "sns.heatmap(corr, vmin=-1,annot=True)"
   ]
  },
  {
   "cell_type": "code",
   "execution_count": 29,
   "metadata": {},
   "outputs": [],
   "source": [
    "#There is a weak correlation between the bedrooms within a house and the price of the home.\n"
   ]
  },
  {
   "cell_type": "code",
   "execution_count": 30,
   "metadata": {
    "scrolled": false
   },
   "outputs": [
    {
     "data": {
      "text/html": [
       "<div>\n",
       "<style scoped>\n",
       "    .dataframe tbody tr th:only-of-type {\n",
       "        vertical-align: middle;\n",
       "    }\n",
       "\n",
       "    .dataframe tbody tr th {\n",
       "        vertical-align: top;\n",
       "    }\n",
       "\n",
       "    .dataframe thead th {\n",
       "        text-align: right;\n",
       "    }\n",
       "</style>\n",
       "<table border=\"1\" class=\"dataframe\">\n",
       "  <thead>\n",
       "    <tr style=\"text-align: right;\">\n",
       "      <th></th>\n",
       "      <th>BEDRM</th>\n",
       "      <th>PRICE</th>\n",
       "      <th>BATHRM</th>\n",
       "    </tr>\n",
       "  </thead>\n",
       "  <tbody>\n",
       "    <tr>\n",
       "      <th>BEDRM</th>\n",
       "      <td>1.000000</td>\n",
       "      <td>0.283528</td>\n",
       "      <td>0.708634</td>\n",
       "    </tr>\n",
       "    <tr>\n",
       "      <th>PRICE</th>\n",
       "      <td>0.283528</td>\n",
       "      <td>1.000000</td>\n",
       "      <td>0.420305</td>\n",
       "    </tr>\n",
       "    <tr>\n",
       "      <th>BATHRM</th>\n",
       "      <td>0.708634</td>\n",
       "      <td>0.420305</td>\n",
       "      <td>1.000000</td>\n",
       "    </tr>\n",
       "  </tbody>\n",
       "</table>\n",
       "</div>"
      ],
      "text/plain": [
       "           BEDRM     PRICE    BATHRM\n",
       "BEDRM   1.000000  0.283528  0.708634\n",
       "PRICE   0.283528  1.000000  0.420305\n",
       "BATHRM  0.708634  0.420305  1.000000"
      ]
     },
     "execution_count": 30,
     "metadata": {},
     "output_type": "execute_result"
    }
   ],
   "source": [
    "copydf3.corr()"
   ]
  },
  {
   "cell_type": "code",
   "execution_count": 31,
   "metadata": {},
   "outputs": [],
   "source": [
    "#There is a stronger correlation between the number of bathrooms a house has and the corresponding number of bedrooms, and the number of bathrooms a house has to the price. It is still not as strong of a correlation that I would like to see to pass judgement to say that there is a direct link. "
   ]
  },
  {
   "cell_type": "code",
   "execution_count": 32,
   "metadata": {},
   "outputs": [
    {
     "data": {
      "text/plain": [
       "<matplotlib.axes._subplots.AxesSubplot at 0x1a19b27d68>"
      ]
     },
     "execution_count": 32,
     "metadata": {},
     "output_type": "execute_result"
    },
    {
     "data": {
      "image/png": "[encoded data removed]",
      "text/plain": [
       "<Figure size 432x288 with 1 Axes>"
      ]
     },
     "metadata": {
      "needs_background": "light"
     },
     "output_type": "display_data"
    }
   ],
   "source": [
    "sns.violinplot(x='WARD', y='PRICE',data=price_ward_df, inner=None)"
   ]
  },
  {
   "cell_type": "code",
   "execution_count": 33,
   "metadata": {},
   "outputs": [],
   "source": [
    "#This graph shows that there are outliers still within the data set, even after cleaning up the data to remove anything outside of the standrad deviation.\n",
    "#If there weren't outliers, I would expect there to be an even dispertion of the violin. "
   ]
  },
  {
   "cell_type": "code",
   "execution_count": 34,
   "metadata": {},
   "outputs": [],
   "source": [
    "import statsmodels.formula.api as smf"
   ]
  },
  {
   "cell_type": "code",
   "execution_count": 35,
   "metadata": {},
   "outputs": [],
   "source": [
    "result=smf.ols('PRICE ~ BEDRM + BATHRM', data=copydf3).fit()"
   ]
  },
  {
   "cell_type": "code",
   "execution_count": 36,
   "metadata": {},
   "outputs": [
    {
     "data": {
      "text/html": [
       "<table class=\"simpletable\">\n",
       "<caption>OLS Regression Results</caption>\n",
       "<tr>\n",
       "  <th>Dep. Variable:</th>          <td>PRICE</td>      <th>  R-squared:         </th>  <td>   0.177</td>  \n",
       "</tr>\n",
       "<tr>\n",
       "  <th>Model:</th>                   <td>OLS</td>       <th>  Adj. R-squared:    </th>  <td>   0.177</td>  \n",
       "</tr>\n",
       "<tr>\n",
       "  <th>Method:</th>             <td>Least Squares</td>  <th>  F-statistic:       </th>  <td>1.053e+04</td> \n",
       "</tr>\n",
       "<tr>\n",
       "  <th>Date:</th>             <td>Sun, 20 Jan 2019</td> <th>  Prob (F-statistic):</th>   <td>  0.00</td>   \n",
       "</tr>\n",
       "<tr>\n",
       "  <th>Time:</th>                 <td>15:06:14</td>     <th>  Log-Likelihood:    </th> <td>-1.4308e+06</td>\n",
       "</tr>\n",
       "<tr>\n",
       "  <th>No. Observations:</th>      <td> 97848</td>      <th>  AIC:               </th>  <td>2.862e+06</td> \n",
       "</tr>\n",
       "<tr>\n",
       "  <th>Df Residuals:</th>          <td> 97845</td>      <th>  BIC:               </th>  <td>2.862e+06</td> \n",
       "</tr>\n",
       "<tr>\n",
       "  <th>Df Model:</th>              <td>     2</td>      <th>                     </th>      <td> </td>     \n",
       "</tr>\n",
       "<tr>\n",
       "  <th>Covariance Type:</th>      <td>nonrobust</td>    <th>                     </th>      <td> </td>     \n",
       "</tr>\n",
       "</table>\n",
       "<table class=\"simpletable\">\n",
       "<tr>\n",
       "      <td></td>         <th>coef</th>     <th>std err</th>      <th>t</th>      <th>P>|t|</th>  <th>[0.025</th>    <th>0.975]</th>  \n",
       "</tr>\n",
       "<tr>\n",
       "  <th>Intercept</th> <td> 5.857e+04</td> <td> 3947.551</td> <td>   14.838</td> <td> 0.000</td> <td> 5.08e+04</td> <td> 6.63e+04</td>\n",
       "</tr>\n",
       "<tr>\n",
       "  <th>BEDRM</th>     <td>-1.235e+04</td> <td> 1765.678</td> <td>   -6.996</td> <td> 0.000</td> <td>-1.58e+04</td> <td>-8891.154</td>\n",
       "</tr>\n",
       "<tr>\n",
       "  <th>BATHRM</th>    <td> 2.694e+05</td> <td> 2513.000</td> <td>  107.215</td> <td> 0.000</td> <td> 2.65e+05</td> <td> 2.74e+05</td>\n",
       "</tr>\n",
       "</table>\n",
       "<table class=\"simpletable\">\n",
       "<tr>\n",
       "  <th>Omnibus:</th>       <td>160365.487</td> <th>  Durbin-Watson:     </th>   <td>   0.722</td>   \n",
       "</tr>\n",
       "<tr>\n",
       "  <th>Prob(Omnibus):</th>   <td> 0.000</td>   <th>  Jarque-Bera (JB):  </th> <td>188318145.831</td>\n",
       "</tr>\n",
       "<tr>\n",
       "  <th>Skew:</th>            <td>10.813</td>   <th>  Prob(JB):          </th>   <td>    0.00</td>   \n",
       "</tr>\n",
       "<tr>\n",
       "  <th>Kurtosis:</th>        <td>216.829</td>  <th>  Cond. No.          </th>   <td>    8.75</td>   \n",
       "</tr>\n",
       "</table><br/><br/>Warnings:<br/>[1] Standard Errors assume that the covariance matrix of the errors is correctly specified."
      ],
      "text/plain": [
       "<class 'statsmodels.iolib.summary.Summary'>\n",
       "\"\"\"\n",
       "                            OLS Regression Results                            \n",
       "==============================================================================\n",
       "Dep. Variable:                  PRICE   R-squared:                       0.177\n",
       "Model:                            OLS   Adj. R-squared:                  0.177\n",
       "Method:                 Least Squares   F-statistic:                 1.053e+04\n",
       "Date:                Sun, 20 Jan 2019   Prob (F-statistic):               0.00\n",
       "Time:                        15:06:14   Log-Likelihood:            -1.4308e+06\n",
       "No. Observations:               97848   AIC:                         2.862e+06\n",
       "Df Residuals:                   97845   BIC:                         2.862e+06\n",
       "Df Model:                           2                                         \n",
       "Covariance Type:            nonrobust                                         \n",
       "==============================================================================\n",
       "                 coef    std err          t      P>|t|      [0.025      0.975]\n",
       "------------------------------------------------------------------------------\n",
       "Intercept   5.857e+04   3947.551     14.838      0.000    5.08e+04    6.63e+04\n",
       "BEDRM      -1.235e+04   1765.678     -6.996      0.000   -1.58e+04   -8891.154\n",
       "BATHRM      2.694e+05   2513.000    107.215      0.000    2.65e+05    2.74e+05\n",
       "==============================================================================\n",
       "Omnibus:                   160365.487   Durbin-Watson:                   0.722\n",
       "Prob(Omnibus):                  0.000   Jarque-Bera (JB):        188318145.831\n",
       "Skew:                          10.813   Prob(JB):                         0.00\n",
       "Kurtosis:                     216.829   Cond. No.                         8.75\n",
       "==============================================================================\n",
       "\n",
       "Warnings:\n",
       "[1] Standard Errors assume that the covariance matrix of the errors is correctly specified.\n",
       "\"\"\""
      ]
     },
     "execution_count": 36,
     "metadata": {},
     "output_type": "execute_result"
    }
   ],
   "source": [
    "result.summary()"
   ]
  },
  {
   "cell_type": "code",
   "execution_count": 37,
   "metadata": {},
   "outputs": [
    {
     "data": {
      "text/html": [
       "<table class=\"simpletable\">\n",
       "<caption>OLS Regression Results</caption>\n",
       "<tr>\n",
       "  <th>Dep. Variable:</th>          <td>PRICE</td>      <th>  R-squared:         </th>  <td>   0.177</td>  \n",
       "</tr>\n",
       "<tr>\n",
       "  <th>Model:</th>                   <td>OLS</td>       <th>  Adj. R-squared:    </th>  <td>   0.177</td>  \n",
       "</tr>\n",
       "<tr>\n",
       "  <th>Method:</th>             <td>Least Squares</td>  <th>  F-statistic:       </th>  <td>2.099e+04</td> \n",
       "</tr>\n",
       "<tr>\n",
       "  <th>Date:</th>             <td>Sun, 20 Jan 2019</td> <th>  Prob (F-statistic):</th>   <td>  0.00</td>   \n",
       "</tr>\n",
       "<tr>\n",
       "  <th>Time:</th>                 <td>15:06:14</td>     <th>  Log-Likelihood:    </th> <td>-1.4308e+06</td>\n",
       "</tr>\n",
       "<tr>\n",
       "  <th>No. Observations:</th>      <td> 97848</td>      <th>  AIC:               </th>  <td>2.862e+06</td> \n",
       "</tr>\n",
       "<tr>\n",
       "  <th>Df Residuals:</th>          <td> 97846</td>      <th>  BIC:               </th>  <td>2.862e+06</td> \n",
       "</tr>\n",
       "<tr>\n",
       "  <th>Df Model:</th>              <td>     1</td>      <th>                     </th>      <td> </td>     \n",
       "</tr>\n",
       "<tr>\n",
       "  <th>Covariance Type:</th>      <td>nonrobust</td>    <th>                     </th>      <td> </td>     \n",
       "</tr>\n",
       "</table>\n",
       "<table class=\"simpletable\">\n",
       "<tr>\n",
       "      <td></td>         <th>coef</th>     <th>std err</th>      <th>t</th>      <th>P>|t|</th>  <th>[0.025</th>    <th>0.975]</th>  \n",
       "</tr>\n",
       "<tr>\n",
       "  <th>Intercept</th> <td> 4.949e+04</td> <td> 3729.111</td> <td>   13.273</td> <td> 0.000</td> <td> 4.22e+04</td> <td> 5.68e+04</td>\n",
       "</tr>\n",
       "<tr>\n",
       "  <th>BATHRM</th>    <td>  2.57e+05</td> <td> 1773.546</td> <td>  144.893</td> <td> 0.000</td> <td> 2.53e+05</td> <td>  2.6e+05</td>\n",
       "</tr>\n",
       "</table>\n",
       "<table class=\"simpletable\">\n",
       "<tr>\n",
       "  <th>Omnibus:</th>       <td>160482.358</td> <th>  Durbin-Watson:     </th>   <td>   0.716</td>   \n",
       "</tr>\n",
       "<tr>\n",
       "  <th>Prob(Omnibus):</th>   <td> 0.000</td>   <th>  Jarque-Bera (JB):  </th> <td>189076811.321</td>\n",
       "</tr>\n",
       "<tr>\n",
       "  <th>Skew:</th>            <td>10.829</td>   <th>  Prob(JB):          </th>   <td>    0.00</td>   \n",
       "</tr>\n",
       "<tr>\n",
       "  <th>Kurtosis:</th>        <td>217.260</td>  <th>  Cond. No.          </th>   <td>    5.36</td>   \n",
       "</tr>\n",
       "</table><br/><br/>Warnings:<br/>[1] Standard Errors assume that the covariance matrix of the errors is correctly specified."
      ],
      "text/plain": [
       "<class 'statsmodels.iolib.summary.Summary'>\n",
       "\"\"\"\n",
       "                            OLS Regression Results                            \n",
       "==============================================================================\n",
       "Dep. Variable:                  PRICE   R-squared:                       0.177\n",
       "Model:                            OLS   Adj. R-squared:                  0.177\n",
       "Method:                 Least Squares   F-statistic:                 2.099e+04\n",
       "Date:                Sun, 20 Jan 2019   Prob (F-statistic):               0.00\n",
       "Time:                        15:06:14   Log-Likelihood:            -1.4308e+06\n",
       "No. Observations:               97848   AIC:                         2.862e+06\n",
       "Df Residuals:                   97846   BIC:                         2.862e+06\n",
       "Df Model:                           1                                         \n",
       "Covariance Type:            nonrobust                                         \n",
       "==============================================================================\n",
       "                 coef    std err          t      P>|t|      [0.025      0.975]\n",
       "------------------------------------------------------------------------------\n",
       "Intercept   4.949e+04   3729.111     13.273      0.000    4.22e+04    5.68e+04\n",
       "BATHRM       2.57e+05   1773.546    144.893      0.000    2.53e+05     2.6e+05\n",
       "==============================================================================\n",
       "Omnibus:                   160482.358   Durbin-Watson:                   0.716\n",
       "Prob(Omnibus):                  0.000   Jarque-Bera (JB):        189076811.321\n",
       "Skew:                          10.829   Prob(JB):                         0.00\n",
       "Kurtosis:                     217.260   Cond. No.                         5.36\n",
       "==============================================================================\n",
       "\n",
       "Warnings:\n",
       "[1] Standard Errors assume that the covariance matrix of the errors is correctly specified.\n",
       "\"\"\""
      ]
     },
     "execution_count": 37,
     "metadata": {},
     "output_type": "execute_result"
    }
   ],
   "source": [
    "result=smf.ols('PRICE ~ BATHRM', data=copydf3).fit()\n",
    "result.summary()"
   ]
  },
  {
   "cell_type": "code",
   "execution_count": 38,
   "metadata": {},
   "outputs": [],
   "source": [
    "#The standard dev on just these two variables is still way too high to make a correlation. The r-squared remained the same even when I removed bedrooms, I thought it would improve. "
   ]
  },
  {
   "cell_type": "code",
   "execution_count": 39,
   "metadata": {},
   "outputs": [],
   "source": [
    "#PROJECT 3"
   ]
  },
  {
   "cell_type": "code",
   "execution_count": 40,
   "metadata": {},
   "outputs": [
    {
     "data": {
      "text/plain": [
       "LinearRegression(copy_X=True, fit_intercept=True, n_jobs=1, normalize=False)"
      ]
     },
     "execution_count": 40,
     "metadata": {},
     "output_type": "execute_result"
    }
   ],
   "source": [
    "from sklearn.linear_model import LinearRegression\n",
    "lm=LinearRegression()\n",
    "LinearRegression(copy_X=True, fit_intercept=True,n_jobs=1, normalize=False)"
   ]
  },
  {
   "cell_type": "code",
   "execution_count": 41,
   "metadata": {},
   "outputs": [
    {
     "data": {
      "text/plain": [
       "BEDRM     0\n",
       "PRICE     0\n",
       "WARD      0\n",
       "BATHRM    0\n",
       "dtype: int64"
      ]
     },
     "execution_count": 41,
     "metadata": {},
     "output_type": "execute_result"
    }
   ],
   "source": [
    "copydf3.isnull().sum()"
   ]
  },
  {
   "cell_type": "code",
   "execution_count": 42,
   "metadata": {},
   "outputs": [],
   "source": [
    "#good, this is what I expected"
   ]
  },
  {
   "cell_type": "code",
   "execution_count": 43,
   "metadata": {
    "scrolled": true
   },
   "outputs": [],
   "source": [
    "copydf4=copydf3.drop('WARD',axis=1)"
   ]
  },
  {
   "cell_type": "code",
   "execution_count": 44,
   "metadata": {},
   "outputs": [
    {
     "data": {
      "text/plain": [
       "LinearRegression(copy_X=True, fit_intercept=True, n_jobs=None,\n",
       "         normalize=False)"
      ]
     },
     "execution_count": 44,
     "metadata": {},
     "output_type": "execute_result"
    }
   ],
   "source": [
    "from sklearn.linear_model import LinearRegression\n",
    "X = copydf4.drop('PRICE',axis=1)\n",
    "lm=LinearRegression()\n",
    "lm"
   ]
  },
  {
   "cell_type": "code",
   "execution_count": 45,
   "metadata": {},
   "outputs": [
    {
     "data": {
      "text/plain": [
       "LinearRegression(copy_X=True, fit_intercept=True, n_jobs=None,\n",
       "         normalize=False)"
      ]
     },
     "execution_count": 45,
     "metadata": {},
     "output_type": "execute_result"
    }
   ],
   "source": [
    "lm.fit(X,copydf4.PRICE)"
   ]
  },
  {
   "cell_type": "code",
   "execution_count": 46,
   "metadata": {},
   "outputs": [
    {
     "name": "stdout",
     "output_type": "stream",
     "text": [
      "Estimated intercept coefficient: 58571.91850922414\n"
     ]
    }
   ],
   "source": [
    "print('Estimated intercept coefficient:', lm.intercept_)"
   ]
  },
  {
   "cell_type": "code",
   "execution_count": 47,
   "metadata": {},
   "outputs": [
    {
     "name": "stdout",
     "output_type": "stream",
     "text": [
      "Number of coefficents: 2\n"
     ]
    }
   ],
   "source": [
    "print('Number of coefficents:', len(lm.coef_))"
   ]
  },
  {
   "cell_type": "code",
   "execution_count": 48,
   "metadata": {},
   "outputs": [],
   "source": [
    "#These should bedrooms and bathrooms"
   ]
  },
  {
   "cell_type": "code",
   "execution_count": 49,
   "metadata": {},
   "outputs": [
    {
     "data": {
      "text/html": [
       "<div>\n",
       "<style scoped>\n",
       "    .dataframe tbody tr th:only-of-type {\n",
       "        vertical-align: middle;\n",
       "    }\n",
       "\n",
       "    .dataframe tbody tr th {\n",
       "        vertical-align: top;\n",
       "    }\n",
       "\n",
       "    .dataframe thead th {\n",
       "        text-align: right;\n",
       "    }\n",
       "</style>\n",
       "<table border=\"1\" class=\"dataframe\">\n",
       "  <thead>\n",
       "    <tr style=\"text-align: right;\">\n",
       "      <th></th>\n",
       "      <th>features</th>\n",
       "      <th>estimated Coefficients</th>\n",
       "    </tr>\n",
       "  </thead>\n",
       "  <tbody>\n",
       "    <tr>\n",
       "      <th>0</th>\n",
       "      <td>BEDRM</td>\n",
       "      <td>-12351.861230</td>\n",
       "    </tr>\n",
       "    <tr>\n",
       "      <th>1</th>\n",
       "      <td>BATHRM</td>\n",
       "      <td>269431.335317</td>\n",
       "    </tr>\n",
       "  </tbody>\n",
       "</table>\n",
       "</div>"
      ],
      "text/plain": [
       "  features  estimated Coefficients\n",
       "0    BEDRM           -12351.861230\n",
       "1   BATHRM           269431.335317"
      ]
     },
     "execution_count": 49,
     "metadata": {},
     "output_type": "execute_result"
    }
   ],
   "source": [
    "pd.DataFrame(list(zip(X.columns, lm.coef_)), columns=['features','estimated Coefficients'])"
   ]
  },
  {
   "cell_type": "code",
   "execution_count": 50,
   "metadata": {},
   "outputs": [],
   "source": [
    "#Double checking the number of coefficients here. Looks good. "
   ]
  },
  {
   "cell_type": "code",
   "execution_count": 51,
   "metadata": {},
   "outputs": [
    {
     "data": {
      "image/png": "[encoded data removed]",
      "text/plain": [
       "<Figure size 432x288 with 1 Axes>"
      ]
     },
     "metadata": {
      "needs_background": "light"
     },
     "output_type": "display_data"
    }
   ],
   "source": [
    "plt.scatter(copydf4.BEDRM, copydf4.PRICE)\n",
    "plt.xlabel(\"Average number of Bedrooms\")\n",
    "plt.ylabel(\"Average Price of Home\")\n",
    "plt.title(\"Relationship between Price of home and number of Bedrooms\")\n",
    "plt.show()"
   ]
  },
  {
   "cell_type": "code",
   "execution_count": 52,
   "metadata": {},
   "outputs": [],
   "source": [
    "#Hmm, this isn't what I was expecting to see, and is suprising when I think about how typically the more bedrooms a home has the more expensive the house becomes.\n",
    "#This graph goes agains my preconcieved notions. I think the reason for this is due to certain wards having a higher starting cost for a home, therefore they could have fewer bedrooms but have a higher cost. \n",
    "#There is a trend shown where the more bedrooms the higher the cost, but that begins to tapper around the 7 bedroom mark. "
   ]
  },
  {
   "cell_type": "code",
   "execution_count": 53,
   "metadata": {},
   "outputs": [
    {
     "data": {
      "text/plain": [
       "array([1086889.81485806,  805106.6183116 ,  805106.6183116 ,\n",
       "        805106.6183116 ,  817458.47954122])"
      ]
     },
     "execution_count": 53,
     "metadata": {},
     "output_type": "execute_result"
    }
   ],
   "source": [
    "lm.predict(X)[0:5]"
   ]
  },
  {
   "cell_type": "code",
   "execution_count": 54,
   "metadata": {},
   "outputs": [
    {
     "data": {
      "image/png": "[encoded data removed]",
      "text/plain": [
       "<Figure size 432x288 with 1 Axes>"
      ]
     },
     "metadata": {
      "needs_background": "light"
     },
     "output_type": "display_data"
    }
   ],
   "source": [
    "plt.scatter(copydf4.PRICE,lm.predict(X))\n",
    "plt.xlabel(\"Price\")\n",
    "plt.ylabel(\"Predicted Price\")\n",
    "plt.title(\"Price vs Predicted Price\")\n",
    "plt.show()"
   ]
  },
  {
   "cell_type": "code",
   "execution_count": 55,
   "metadata": {},
   "outputs": [],
   "source": [
    "#To me, this indicates that the data set is no lending to a predictable price. The prices are too varied from the predicted to the actual to say with confidence that there is any sort of predicatbility. \n"
   ]
  },
  {
   "cell_type": "code",
   "execution_count": 56,
   "metadata": {},
   "outputs": [
    {
     "name": "stdout",
     "output_type": "stream",
     "text": [
      "294054259411.9919\n"
     ]
    }
   ],
   "source": [
    "mseFull=np.mean((copydf4.PRICE - lm.predict(X))**2)\n",
    "print(mseFull)"
   ]
  },
  {
   "cell_type": "code",
   "execution_count": 57,
   "metadata": {},
   "outputs": [],
   "source": [
    "#This is saying that for the price data is $29,405,425,941,199,190 which is clearly inconsistent and unpredictable. The mean squared error here is astronomical, this means to me that the price can not be predicted. "
   ]
  },
  {
   "cell_type": "code",
   "execution_count": 62,
   "metadata": {},
   "outputs": [
    {
     "name": "stdout",
     "output_type": "stream",
     "text": [
      "(73386, 2)\n",
      "(24462, 2)\n",
      "(73386,)\n",
      "(24462,)\n"
     ]
    }
   ],
   "source": [
    "X_train, X_test, Y_train, Y_test = sklearn.model_selection.train_test_split(X, copydf4.PRICE, random_state=5)\n",
    "print(X_train.shape)\n",
    "print(X_test.shape)\n",
    "print(Y_train.shape)\n",
    "print(Y_test.shape)"
   ]
  },
  {
   "cell_type": "code",
   "execution_count": 63,
   "metadata": {},
   "outputs": [],
   "source": [
    "#good. I want to use the default test size. I am doing this because it will provide more training data. "
   ]
  },
  {
   "cell_type": "code",
   "execution_count": 64,
   "metadata": {},
   "outputs": [],
   "source": [
    "lm=LinearRegression()\n",
    "lm.fit(X_train, Y_train)\n",
    "pred_train=lm.predict(X_train)\n",
    "pred_test=lm.predict(X_test)"
   ]
  },
  {
   "cell_type": "code",
   "execution_count": 65,
   "metadata": {},
   "outputs": [
    {
     "name": "stdout",
     "output_type": "stream",
     "text": [
      "Fit a model X_train, and calculate MSE with Y-train: 304077522187.13934\n"
     ]
    }
   ],
   "source": [
    "print('Fit a model X_train, and calculate MSE with Y-train:', np.mean((Y_train - lm.predict(X_train))**2))"
   ]
  },
  {
   "cell_type": "code",
   "execution_count": 66,
   "metadata": {},
   "outputs": [
    {
     "name": "stdout",
     "output_type": "stream",
     "text": [
      "Fit a model X_train, and calculate MSE with X_test, Y_test: 264010203377.93405\n"
     ]
    }
   ],
   "source": [
    "print ('Fit a model X_train, and calculate MSE with X_test, Y_test:', np.mean((Y_test - lm.predict(X_test))**2))"
   ]
  },
  {
   "cell_type": "code",
   "execution_count": 67,
   "metadata": {},
   "outputs": [],
   "source": [
    "## Now I am getting into the Logistical Regression\n",
    "\n"
   ]
  },
  {
   "cell_type": "code",
   "execution_count": 68,
   "metadata": {},
   "outputs": [
    {
     "name": "stderr",
     "output_type": "stream",
     "text": [
      "/anaconda3/lib/python3.7/site-packages/scipy/stats/stats.py:1713: FutureWarning: Using a non-tuple sequence for multidimensional indexing is deprecated; use `arr[tuple(seq)]` instead of `arr[seq]`. In the future this will be interpreted as an array index, `arr[np.array(seq)]`, which will result either in an error or a different result.\n",
      "  return np.add.reduce(sorted[indexer] * weights, axis=axis) / sumval\n"
     ]
    },
    {
     "data": {
      "text/plain": [
       "<matplotlib.axes._subplots.AxesSubplot at 0x104a0f160>"
      ]
     },
     "execution_count": 68,
     "metadata": {},
     "output_type": "execute_result"
    },
    {
     "data": {
      "image/png": "[encoded data removed]",
      "text/plain": [
       "<Figure size 432x288 with 1 Axes>"
      ]
     },
     "metadata": {
      "needs_background": "light"
     },
     "output_type": "display_data"
    }
   ],
   "source": [
    "sns.barplot('BEDRM','PRICE', data=copydf4)"
   ]
  },
  {
   "cell_type": "code",
   "execution_count": 69,
   "metadata": {},
   "outputs": [],
   "source": [
    "#This shows a better correlation between price and bedroom, as compared to the scatterplot, but we are still seeing a drop off in correlation after 7 bedrooms. \n"
   ]
  },
  {
   "cell_type": "code",
   "execution_count": 71,
   "metadata": {},
   "outputs": [
    {
     "data": {
      "text/html": [
       "<div>\n",
       "<style scoped>\n",
       "    .dataframe tbody tr th:only-of-type {\n",
       "        vertical-align: middle;\n",
       "    }\n",
       "\n",
       "    .dataframe tbody tr th {\n",
       "        vertical-align: top;\n",
       "    }\n",
       "\n",
       "    .dataframe thead th {\n",
       "        text-align: right;\n",
       "    }\n",
       "</style>\n",
       "<table border=\"1\" class=\"dataframe\">\n",
       "  <thead>\n",
       "    <tr style=\"text-align: right;\">\n",
       "      <th></th>\n",
       "      <th>BEDRM</th>\n",
       "      <th>PRICE</th>\n",
       "      <th>WARD</th>\n",
       "    </tr>\n",
       "  </thead>\n",
       "  <tbody>\n",
       "    <tr>\n",
       "      <th>0</th>\n",
       "      <td>4</td>\n",
       "      <td>1095000.0</td>\n",
       "      <td>Ward 2</td>\n",
       "    </tr>\n",
       "    <tr>\n",
       "      <th>1</th>\n",
       "      <td>5</td>\n",
       "      <td>NaN</td>\n",
       "      <td>Ward 2</td>\n",
       "    </tr>\n",
       "    <tr>\n",
       "      <th>2</th>\n",
       "      <td>5</td>\n",
       "      <td>2100000.0</td>\n",
       "      <td>Ward 2</td>\n",
       "    </tr>\n",
       "    <tr>\n",
       "      <th>3</th>\n",
       "      <td>5</td>\n",
       "      <td>1602000.0</td>\n",
       "      <td>Ward 2</td>\n",
       "    </tr>\n",
       "    <tr>\n",
       "      <th>4</th>\n",
       "      <td>3</td>\n",
       "      <td>NaN</td>\n",
       "      <td>Ward 2</td>\n",
       "    </tr>\n",
       "  </tbody>\n",
       "</table>\n",
       "</div>"
      ],
      "text/plain": [
       "   BEDRM      PRICE    WARD\n",
       "0      4  1095000.0  Ward 2\n",
       "1      5        NaN  Ward 2\n",
       "2      5  2100000.0  Ward 2\n",
       "3      5  1602000.0  Ward 2\n",
       "4      3        NaN  Ward 2"
      ]
     },
     "execution_count": 71,
     "metadata": {},
     "output_type": "execute_result"
    }
   ],
   "source": [
    "df2.head()"
   ]
  },
  {
   "cell_type": "code",
   "execution_count": 73,
   "metadata": {},
   "outputs": [],
   "source": [
    "dfpriceward = df2.drop('BEDRM',axis=1)"
   ]
  },
  {
   "cell_type": "code",
   "execution_count": 74,
   "metadata": {},
   "outputs": [
    {
     "data": {
      "text/html": [
       "<div>\n",
       "<style scoped>\n",
       "    .dataframe tbody tr th:only-of-type {\n",
       "        vertical-align: middle;\n",
       "    }\n",
       "\n",
       "    .dataframe tbody tr th {\n",
       "        vertical-align: top;\n",
       "    }\n",
       "\n",
       "    .dataframe thead th {\n",
       "        text-align: right;\n",
       "    }\n",
       "</style>\n",
       "<table border=\"1\" class=\"dataframe\">\n",
       "  <thead>\n",
       "    <tr style=\"text-align: right;\">\n",
       "      <th></th>\n",
       "      <th>PRICE</th>\n",
       "      <th>WARD</th>\n",
       "    </tr>\n",
       "  </thead>\n",
       "  <tbody>\n",
       "    <tr>\n",
       "      <th>0</th>\n",
       "      <td>1095000.0</td>\n",
       "      <td>Ward 2</td>\n",
       "    </tr>\n",
       "    <tr>\n",
       "      <th>1</th>\n",
       "      <td>NaN</td>\n",
       "      <td>Ward 2</td>\n",
       "    </tr>\n",
       "    <tr>\n",
       "      <th>2</th>\n",
       "      <td>2100000.0</td>\n",
       "      <td>Ward 2</td>\n",
       "    </tr>\n",
       "    <tr>\n",
       "      <th>3</th>\n",
       "      <td>1602000.0</td>\n",
       "      <td>Ward 2</td>\n",
       "    </tr>\n",
       "    <tr>\n",
       "      <th>4</th>\n",
       "      <td>NaN</td>\n",
       "      <td>Ward 2</td>\n",
       "    </tr>\n",
       "  </tbody>\n",
       "</table>\n",
       "</div>"
      ],
      "text/plain": [
       "       PRICE    WARD\n",
       "0  1095000.0  Ward 2\n",
       "1        NaN  Ward 2\n",
       "2  2100000.0  Ward 2\n",
       "3  1602000.0  Ward 2\n",
       "4        NaN  Ward 2"
      ]
     },
     "execution_count": 74,
     "metadata": {},
     "output_type": "execute_result"
    }
   ],
   "source": [
    "dfpriceward.head()"
   ]
  },
  {
   "cell_type": "code",
   "execution_count": 75,
   "metadata": {},
   "outputs": [],
   "source": [
    "#only things I need for Log Regressions\n"
   ]
  },
  {
   "cell_type": "code",
   "execution_count": 82,
   "metadata": {},
   "outputs": [],
   "source": [
    "dfpricewardnew = dfpriceward[\"WARD\"].str.split(\" \", n = 1, expand = True) "
   ]
  },
  {
   "cell_type": "code",
   "execution_count": 88,
   "metadata": {},
   "outputs": [],
   "source": [
    "dfpriceward[\"NWARD\"]= dfpricewardnew[1] \n",
    "dfpriceward.drop(columns =[\"WARD\"], inplace = True) "
   ]
  },
  {
   "cell_type": "code",
   "execution_count": 89,
   "metadata": {},
   "outputs": [
    {
     "data": {
      "text/html": [
       "<div>\n",
       "<style scoped>\n",
       "    .dataframe tbody tr th:only-of-type {\n",
       "        vertical-align: middle;\n",
       "    }\n",
       "\n",
       "    .dataframe tbody tr th {\n",
       "        vertical-align: top;\n",
       "    }\n",
       "\n",
       "    .dataframe thead th {\n",
       "        text-align: right;\n",
       "    }\n",
       "</style>\n",
       "<table border=\"1\" class=\"dataframe\">\n",
       "  <thead>\n",
       "    <tr style=\"text-align: right;\">\n",
       "      <th></th>\n",
       "      <th>PRICE</th>\n",
       "      <th>NWARD</th>\n",
       "    </tr>\n",
       "  </thead>\n",
       "  <tbody>\n",
       "    <tr>\n",
       "      <th>0</th>\n",
       "      <td>1095000.0</td>\n",
       "      <td>2</td>\n",
       "    </tr>\n",
       "    <tr>\n",
       "      <th>1</th>\n",
       "      <td>NaN</td>\n",
       "      <td>2</td>\n",
       "    </tr>\n",
       "    <tr>\n",
       "      <th>2</th>\n",
       "      <td>2100000.0</td>\n",
       "      <td>2</td>\n",
       "    </tr>\n",
       "    <tr>\n",
       "      <th>3</th>\n",
       "      <td>1602000.0</td>\n",
       "      <td>2</td>\n",
       "    </tr>\n",
       "    <tr>\n",
       "      <th>4</th>\n",
       "      <td>NaN</td>\n",
       "      <td>2</td>\n",
       "    </tr>\n",
       "  </tbody>\n",
       "</table>\n",
       "</div>"
      ],
      "text/plain": [
       "       PRICE NWARD\n",
       "0  1095000.0     2\n",
       "1        NaN     2\n",
       "2  2100000.0     2\n",
       "3  1602000.0     2\n",
       "4        NaN     2"
      ]
     },
     "execution_count": 89,
     "metadata": {},
     "output_type": "execute_result"
    }
   ],
   "source": [
    "dfpriceward.head()"
   ]
  },
  {
   "cell_type": "code",
   "execution_count": 91,
   "metadata": {},
   "outputs": [
    {
     "data": {
      "text/plain": [
       "PRICE    float64\n",
       "NWARD     object\n",
       "dtype: object"
      ]
     },
     "execution_count": 91,
     "metadata": {},
     "output_type": "execute_result"
    }
   ],
   "source": [
    "#needed to make ward just an integer\n",
    "dfpriceward.dtypes"
   ]
  },
  {
   "cell_type": "code",
   "execution_count": 93,
   "metadata": {},
   "outputs": [
    {
     "data": {
      "text/plain": [
       "PRICE     98216\n",
       "NWARD    158956\n",
       "dtype: int64"
      ]
     },
     "execution_count": 93,
     "metadata": {},
     "output_type": "execute_result"
    }
   ],
   "source": [
    "dfpriceward.count()"
   ]
  },
  {
   "cell_type": "code",
   "execution_count": 94,
   "metadata": {},
   "outputs": [],
   "source": [
    "dfcleanpw=dfpriceward.dropna()"
   ]
  },
  {
   "cell_type": "code",
   "execution_count": 95,
   "metadata": {},
   "outputs": [
    {
     "data": {
      "text/plain": [
       "PRICE    98216\n",
       "NWARD    98216\n",
       "dtype: int64"
      ]
     },
     "execution_count": 95,
     "metadata": {},
     "output_type": "execute_result"
    }
   ],
   "source": [
    "dfcleanpw.count()"
   ]
  },
  {
   "cell_type": "code",
   "execution_count": 104,
   "metadata": {},
   "outputs": [
    {
     "name": "stderr",
     "output_type": "stream",
     "text": [
      "/anaconda3/lib/python3.7/site-packages/ipykernel_launcher.py:1: SettingWithCopyWarning: \n",
      "A value is trying to be set on a copy of a slice from a DataFrame.\n",
      "Try using .loc[row_indexer,col_indexer] = value instead\n",
      "\n",
      "See the caveats in the documentation: http://pandas.pydata.org/pandas-docs/stable/indexing.html#indexing-view-versus-copy\n",
      "  \"\"\"Entry point for launching an IPython kernel.\n"
     ]
    }
   ],
   "source": [
    "dfcleanpw[\"NWARD\"]=dfcleanpw[\"NWARD\"].astype(int)\n"
   ]
  },
  {
   "cell_type": "code",
   "execution_count": 105,
   "metadata": {},
   "outputs": [
    {
     "data": {
      "text/plain": [
       "PRICE    float64\n",
       "NWARD      int64\n",
       "dtype: object"
      ]
     },
     "execution_count": 105,
     "metadata": {},
     "output_type": "execute_result"
    }
   ],
   "source": [
    "dfcleanpw.dtypes"
   ]
  },
  {
   "cell_type": "code",
   "execution_count": 106,
   "metadata": {},
   "outputs": [
    {
     "data": {
      "text/html": [
       "<div>\n",
       "<style scoped>\n",
       "    .dataframe tbody tr th:only-of-type {\n",
       "        vertical-align: middle;\n",
       "    }\n",
       "\n",
       "    .dataframe tbody tr th {\n",
       "        vertical-align: top;\n",
       "    }\n",
       "\n",
       "    .dataframe thead th {\n",
       "        text-align: right;\n",
       "    }\n",
       "</style>\n",
       "<table border=\"1\" class=\"dataframe\">\n",
       "  <thead>\n",
       "    <tr style=\"text-align: right;\">\n",
       "      <th></th>\n",
       "      <th>PRICE</th>\n",
       "      <th>NWARD</th>\n",
       "    </tr>\n",
       "  </thead>\n",
       "  <tbody>\n",
       "    <tr>\n",
       "      <th>0</th>\n",
       "      <td>1095000.0</td>\n",
       "      <td>2</td>\n",
       "    </tr>\n",
       "    <tr>\n",
       "      <th>2</th>\n",
       "      <td>2100000.0</td>\n",
       "      <td>2</td>\n",
       "    </tr>\n",
       "    <tr>\n",
       "      <th>3</th>\n",
       "      <td>1602000.0</td>\n",
       "      <td>2</td>\n",
       "    </tr>\n",
       "    <tr>\n",
       "      <th>5</th>\n",
       "      <td>1950000.0</td>\n",
       "      <td>2</td>\n",
       "    </tr>\n",
       "    <tr>\n",
       "      <th>7</th>\n",
       "      <td>1050000.0</td>\n",
       "      <td>2</td>\n",
       "    </tr>\n",
       "    <tr>\n",
       "      <th>8</th>\n",
       "      <td>1430000.0</td>\n",
       "      <td>2</td>\n",
       "    </tr>\n",
       "    <tr>\n",
       "      <th>14</th>\n",
       "      <td>1325000.0</td>\n",
       "      <td>2</td>\n",
       "    </tr>\n",
       "    <tr>\n",
       "      <th>16</th>\n",
       "      <td>1240000.0</td>\n",
       "      <td>2</td>\n",
       "    </tr>\n",
       "    <tr>\n",
       "      <th>19</th>\n",
       "      <td>592250.0</td>\n",
       "      <td>2</td>\n",
       "    </tr>\n",
       "    <tr>\n",
       "      <th>20</th>\n",
       "      <td>33232.0</td>\n",
       "      <td>2</td>\n",
       "    </tr>\n",
       "    <tr>\n",
       "      <th>22</th>\n",
       "      <td>907400.0</td>\n",
       "      <td>2</td>\n",
       "    </tr>\n",
       "    <tr>\n",
       "      <th>23</th>\n",
       "      <td>1065000.0</td>\n",
       "      <td>2</td>\n",
       "    </tr>\n",
       "    <tr>\n",
       "      <th>24</th>\n",
       "      <td>1100000.0</td>\n",
       "      <td>2</td>\n",
       "    </tr>\n",
       "    <tr>\n",
       "      <th>25</th>\n",
       "      <td>20000.0</td>\n",
       "      <td>2</td>\n",
       "    </tr>\n",
       "    <tr>\n",
       "      <th>27</th>\n",
       "      <td>703700.0</td>\n",
       "      <td>2</td>\n",
       "    </tr>\n",
       "    <tr>\n",
       "      <th>29</th>\n",
       "      <td>1210000.0</td>\n",
       "      <td>2</td>\n",
       "    </tr>\n",
       "    <tr>\n",
       "      <th>32</th>\n",
       "      <td>130500.0</td>\n",
       "      <td>2</td>\n",
       "    </tr>\n",
       "    <tr>\n",
       "      <th>37</th>\n",
       "      <td>339500.0</td>\n",
       "      <td>2</td>\n",
       "    </tr>\n",
       "    <tr>\n",
       "      <th>40</th>\n",
       "      <td>1050000.0</td>\n",
       "      <td>2</td>\n",
       "    </tr>\n",
       "    <tr>\n",
       "      <th>41</th>\n",
       "      <td>1550000.0</td>\n",
       "      <td>2</td>\n",
       "    </tr>\n",
       "    <tr>\n",
       "      <th>42</th>\n",
       "      <td>1599900.0</td>\n",
       "      <td>2</td>\n",
       "    </tr>\n",
       "    <tr>\n",
       "      <th>43</th>\n",
       "      <td>1700000.0</td>\n",
       "      <td>2</td>\n",
       "    </tr>\n",
       "    <tr>\n",
       "      <th>44</th>\n",
       "      <td>1700000.0</td>\n",
       "      <td>2</td>\n",
       "    </tr>\n",
       "    <tr>\n",
       "      <th>45</th>\n",
       "      <td>450000.0</td>\n",
       "      <td>2</td>\n",
       "    </tr>\n",
       "    <tr>\n",
       "      <th>46</th>\n",
       "      <td>846000.0</td>\n",
       "      <td>2</td>\n",
       "    </tr>\n",
       "    <tr>\n",
       "      <th>48</th>\n",
       "      <td>348500.0</td>\n",
       "      <td>2</td>\n",
       "    </tr>\n",
       "    <tr>\n",
       "      <th>50</th>\n",
       "      <td>849000.0</td>\n",
       "      <td>2</td>\n",
       "    </tr>\n",
       "    <tr>\n",
       "      <th>52</th>\n",
       "      <td>1312000.0</td>\n",
       "      <td>2</td>\n",
       "    </tr>\n",
       "    <tr>\n",
       "      <th>54</th>\n",
       "      <td>390000.0</td>\n",
       "      <td>2</td>\n",
       "    </tr>\n",
       "    <tr>\n",
       "      <th>55</th>\n",
       "      <td>772500.0</td>\n",
       "      <td>2</td>\n",
       "    </tr>\n",
       "    <tr>\n",
       "      <th>...</th>\n",
       "      <td>...</td>\n",
       "      <td>...</td>\n",
       "    </tr>\n",
       "    <tr>\n",
       "      <th>158811</th>\n",
       "      <td>1469550.0</td>\n",
       "      <td>2</td>\n",
       "    </tr>\n",
       "    <tr>\n",
       "      <th>158812</th>\n",
       "      <td>1399000.0</td>\n",
       "      <td>2</td>\n",
       "    </tr>\n",
       "    <tr>\n",
       "      <th>158813</th>\n",
       "      <td>1600000.0</td>\n",
       "      <td>2</td>\n",
       "    </tr>\n",
       "    <tr>\n",
       "      <th>158814</th>\n",
       "      <td>1170000.0</td>\n",
       "      <td>2</td>\n",
       "    </tr>\n",
       "    <tr>\n",
       "      <th>158815</th>\n",
       "      <td>2713150.0</td>\n",
       "      <td>2</td>\n",
       "    </tr>\n",
       "    <tr>\n",
       "      <th>158816</th>\n",
       "      <td>1125975.0</td>\n",
       "      <td>2</td>\n",
       "    </tr>\n",
       "    <tr>\n",
       "      <th>158817</th>\n",
       "      <td>591000.0</td>\n",
       "      <td>2</td>\n",
       "    </tr>\n",
       "    <tr>\n",
       "      <th>158818</th>\n",
       "      <td>3196900.0</td>\n",
       "      <td>2</td>\n",
       "    </tr>\n",
       "    <tr>\n",
       "      <th>158819</th>\n",
       "      <td>800000.0</td>\n",
       "      <td>2</td>\n",
       "    </tr>\n",
       "    <tr>\n",
       "      <th>158820</th>\n",
       "      <td>1338000.0</td>\n",
       "      <td>2</td>\n",
       "    </tr>\n",
       "    <tr>\n",
       "      <th>158821</th>\n",
       "      <td>676000.0</td>\n",
       "      <td>2</td>\n",
       "    </tr>\n",
       "    <tr>\n",
       "      <th>158822</th>\n",
       "      <td>609250.0</td>\n",
       "      <td>2</td>\n",
       "    </tr>\n",
       "    <tr>\n",
       "      <th>158823</th>\n",
       "      <td>699000.0</td>\n",
       "      <td>2</td>\n",
       "    </tr>\n",
       "    <tr>\n",
       "      <th>158824</th>\n",
       "      <td>1700000.0</td>\n",
       "      <td>2</td>\n",
       "    </tr>\n",
       "    <tr>\n",
       "      <th>158825</th>\n",
       "      <td>633000.0</td>\n",
       "      <td>2</td>\n",
       "    </tr>\n",
       "    <tr>\n",
       "      <th>158826</th>\n",
       "      <td>591000.0</td>\n",
       "      <td>2</td>\n",
       "    </tr>\n",
       "    <tr>\n",
       "      <th>158827</th>\n",
       "      <td>1019250.0</td>\n",
       "      <td>2</td>\n",
       "    </tr>\n",
       "    <tr>\n",
       "      <th>158828</th>\n",
       "      <td>1420000.0</td>\n",
       "      <td>2</td>\n",
       "    </tr>\n",
       "    <tr>\n",
       "      <th>158829</th>\n",
       "      <td>471000.0</td>\n",
       "      <td>2</td>\n",
       "    </tr>\n",
       "    <tr>\n",
       "      <th>158885</th>\n",
       "      <td>610000.0</td>\n",
       "      <td>2</td>\n",
       "    </tr>\n",
       "    <tr>\n",
       "      <th>158886</th>\n",
       "      <td>265900.0</td>\n",
       "      <td>2</td>\n",
       "    </tr>\n",
       "    <tr>\n",
       "      <th>158887</th>\n",
       "      <td>369900.0</td>\n",
       "      <td>2</td>\n",
       "    </tr>\n",
       "    <tr>\n",
       "      <th>158888</th>\n",
       "      <td>394900.0</td>\n",
       "      <td>2</td>\n",
       "    </tr>\n",
       "    <tr>\n",
       "      <th>158890</th>\n",
       "      <td>350000.0</td>\n",
       "      <td>2</td>\n",
       "    </tr>\n",
       "    <tr>\n",
       "      <th>158891</th>\n",
       "      <td>415000.0</td>\n",
       "      <td>2</td>\n",
       "    </tr>\n",
       "    <tr>\n",
       "      <th>158892</th>\n",
       "      <td>395000.0</td>\n",
       "      <td>2</td>\n",
       "    </tr>\n",
       "    <tr>\n",
       "      <th>158893</th>\n",
       "      <td>445000.0</td>\n",
       "      <td>2</td>\n",
       "    </tr>\n",
       "    <tr>\n",
       "      <th>158894</th>\n",
       "      <td>809900.0</td>\n",
       "      <td>2</td>\n",
       "    </tr>\n",
       "    <tr>\n",
       "      <th>158895</th>\n",
       "      <td>385000.0</td>\n",
       "      <td>2</td>\n",
       "    </tr>\n",
       "    <tr>\n",
       "      <th>158896</th>\n",
       "      <td>405000.0</td>\n",
       "      <td>2</td>\n",
       "    </tr>\n",
       "  </tbody>\n",
       "</table>\n",
       "<p>28022 rows × 2 columns</p>\n",
       "</div>"
      ],
      "text/plain": [
       "            PRICE  NWARD\n",
       "0       1095000.0      2\n",
       "2       2100000.0      2\n",
       "3       1602000.0      2\n",
       "5       1950000.0      2\n",
       "7       1050000.0      2\n",
       "8       1430000.0      2\n",
       "14      1325000.0      2\n",
       "16      1240000.0      2\n",
       "19       592250.0      2\n",
       "20        33232.0      2\n",
       "22       907400.0      2\n",
       "23      1065000.0      2\n",
       "24      1100000.0      2\n",
       "25        20000.0      2\n",
       "27       703700.0      2\n",
       "29      1210000.0      2\n",
       "32       130500.0      2\n",
       "37       339500.0      2\n",
       "40      1050000.0      2\n",
       "41      1550000.0      2\n",
       "42      1599900.0      2\n",
       "43      1700000.0      2\n",
       "44      1700000.0      2\n",
       "45       450000.0      2\n",
       "46       846000.0      2\n",
       "48       348500.0      2\n",
       "50       849000.0      2\n",
       "52      1312000.0      2\n",
       "54       390000.0      2\n",
       "55       772500.0      2\n",
       "...           ...    ...\n",
       "158811  1469550.0      2\n",
       "158812  1399000.0      2\n",
       "158813  1600000.0      2\n",
       "158814  1170000.0      2\n",
       "158815  2713150.0      2\n",
       "158816  1125975.0      2\n",
       "158817   591000.0      2\n",
       "158818  3196900.0      2\n",
       "158819   800000.0      2\n",
       "158820  1338000.0      2\n",
       "158821   676000.0      2\n",
       "158822   609250.0      2\n",
       "158823   699000.0      2\n",
       "158824  1700000.0      2\n",
       "158825   633000.0      2\n",
       "158826   591000.0      2\n",
       "158827  1019250.0      2\n",
       "158828  1420000.0      2\n",
       "158829   471000.0      2\n",
       "158885   610000.0      2\n",
       "158886   265900.0      2\n",
       "158887   369900.0      2\n",
       "158888   394900.0      2\n",
       "158890   350000.0      2\n",
       "158891   415000.0      2\n",
       "158892   395000.0      2\n",
       "158893   445000.0      2\n",
       "158894   809900.0      2\n",
       "158895   385000.0      2\n",
       "158896   405000.0      2\n",
       "\n",
       "[28022 rows x 2 columns]"
      ]
     },
     "execution_count": 106,
     "metadata": {},
     "output_type": "execute_result"
    }
   ],
   "source": [
    "dfcleanpw.loc[dfcleanpw['NWARD']<=2]"
   ]
  },
  {
   "cell_type": "code",
   "execution_count": 109,
   "metadata": {},
   "outputs": [],
   "source": [
    "#Now I am going to make Ward 1 and Ward 2 binaries"
   ]
  },
  {
   "cell_type": "code",
   "execution_count": 114,
   "metadata": {},
   "outputs": [
    {
     "name": "stderr",
     "output_type": "stream",
     "text": [
      "/anaconda3/lib/python3.7/site-packages/ipykernel_launcher.py:7: SettingWithCopyWarning: \n",
      "A value is trying to be set on a copy of a slice from a DataFrame.\n",
      "Try using .loc[row_indexer,col_indexer] = value instead\n",
      "\n",
      "See the caveats in the documentation: http://pandas.pydata.org/pandas-docs/stable/indexing.html#indexing-view-versus-copy\n",
      "  import sys\n"
     ]
    },
    {
     "data": {
      "text/html": [
       "<div>\n",
       "<style scoped>\n",
       "    .dataframe tbody tr th:only-of-type {\n",
       "        vertical-align: middle;\n",
       "    }\n",
       "\n",
       "    .dataframe tbody tr th {\n",
       "        vertical-align: top;\n",
       "    }\n",
       "\n",
       "    .dataframe thead th {\n",
       "        text-align: right;\n",
       "    }\n",
       "</style>\n",
       "<table border=\"1\" class=\"dataframe\">\n",
       "  <thead>\n",
       "    <tr style=\"text-align: right;\">\n",
       "      <th></th>\n",
       "      <th>PRICE</th>\n",
       "      <th>NWARD</th>\n",
       "      <th>BWARD</th>\n",
       "    </tr>\n",
       "  </thead>\n",
       "  <tbody>\n",
       "    <tr>\n",
       "      <th>0</th>\n",
       "      <td>1095000.0</td>\n",
       "      <td>2</td>\n",
       "      <td>1.0</td>\n",
       "    </tr>\n",
       "    <tr>\n",
       "      <th>2</th>\n",
       "      <td>2100000.0</td>\n",
       "      <td>2</td>\n",
       "      <td>1.0</td>\n",
       "    </tr>\n",
       "    <tr>\n",
       "      <th>3</th>\n",
       "      <td>1602000.0</td>\n",
       "      <td>2</td>\n",
       "      <td>1.0</td>\n",
       "    </tr>\n",
       "    <tr>\n",
       "      <th>5</th>\n",
       "      <td>1950000.0</td>\n",
       "      <td>2</td>\n",
       "      <td>1.0</td>\n",
       "    </tr>\n",
       "    <tr>\n",
       "      <th>7</th>\n",
       "      <td>1050000.0</td>\n",
       "      <td>2</td>\n",
       "      <td>1.0</td>\n",
       "    </tr>\n",
       "  </tbody>\n",
       "</table>\n",
       "</div>"
      ],
      "text/plain": [
       "       PRICE  NWARD  BWARD\n",
       "0  1095000.0      2    1.0\n",
       "2  2100000.0      2    1.0\n",
       "3  1602000.0      2    1.0\n",
       "5  1950000.0      2    1.0\n",
       "7  1050000.0      2    1.0"
      ]
     },
     "execution_count": 114,
     "metadata": {},
     "output_type": "execute_result"
    }
   ],
   "source": [
    "def ward_to_numeric(x):\n",
    "    if x==1:\n",
    "        return 0\n",
    "    if x==2:\n",
    "        return 1\n",
    "\n",
    "dfcleanpw['BWARD']=dfcleanpw['NWARD'].apply(ward_to_numeric)\n",
    "dfcleanpw.head()"
   ]
  },
  {
   "cell_type": "code",
   "execution_count": null,
   "metadata": {},
   "outputs": [],
   "source": []
  }
 ],
 "metadata": {
  "kernelspec": {
   "display_name": "Python 3",
   "language": "python",
   "name": "python3"
  },
  "language_info": {
   "codemirror_mode": {
    "name": "ipython",
    "version": 3
   },
   "file_extension": ".py",
   "mimetype": "text/x-python",
   "name": "python",
   "nbconvert_exporter": "python",
   "pygments_lexer": "ipython3",
   "version": "3.7.1"
  }
 },
 "nbformat": 4,
 "nbformat_minor": 2
}
